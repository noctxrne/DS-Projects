{
  "nbformat": 4,
  "nbformat_minor": 0,
  "metadata": {
    "colab": {
      "provenance": [],
      "authorship_tag": "ABX9TyM1MOiMnM7HYgkJ44y/dlrB",
      "include_colab_link": true
    },
    "kernelspec": {
      "name": "python3",
      "display_name": "Python 3"
    },
    "language_info": {
      "name": "python"
    }
  },
  "cells": [
    {
      "cell_type": "markdown",
      "metadata": {
        "id": "view-in-github",
        "colab_type": "text"
      },
      "source": [
        "<a href=\"https://colab.research.google.com/github/noctxrne/DSA-ICT/blob/main/NumPy_%26_Pandas_Assignment.ipynb\" target=\"_parent\"><img src=\"https://colab.research.google.com/assets/colab-badge.svg\" alt=\"Open In Colab\"/></a>"
      ]
    },
    {
      "cell_type": "markdown",
      "source": [
        "# **NumPy**"
      ],
      "metadata": {
        "id": "fF3AlHCoZB9c"
      }
    },
    {
      "cell_type": "code",
      "execution_count": 29,
      "metadata": {
        "colab": {
          "base_uri": "https://localhost:8080/"
        },
        "id": "dNX04zYPvZAK",
        "outputId": "7288a7dd-7e99-4a91-bb08-db82cde9c171"
      },
      "outputs": [
        {
          "output_type": "stream",
          "name": "stdout",
          "text": [
            "[[10 11 12 13 14 15 16 17 18 19]\n",
            " [20 21 22 23 24 25 26 27 28 29]\n",
            " [30 31 32 33 34 35 36 37 38 39]\n",
            " [40 41 42 43 44 45 46 47 48 49]]\n",
            "[19 29 39 49]\n"
          ]
        }
      ],
      "source": [
        "#1. Create a NumPy array with values from 10 to 49 (inclusive).\n",
        "# ● Reshape it into a 4x10 matrix.\n",
        "# ● Then extract the last column from the reshaped matrix\n",
        "\n",
        "import numpy as np\n",
        "a1=np.arange(10,50)\n",
        "a2=np.reshape(a1,(4,10))\n",
        "print(a2)\n",
        "print(a2[:9,9])\n"
      ]
    },
    {
      "cell_type": "code",
      "source": [
        "# 2. Create two 3×3 matrices:\n",
        "# One filled with all 5s , One with values from 1 to 9\n",
        "# ● Add the two matrices\n",
        "# ● Multiply them element-wise\n",
        "# ● Then find the transpose of the result\n",
        "\n",
        "A = np.full((3, 3), 5)\n",
        "B = np.arange(1, 10).reshape(3, 3)\n",
        "add=A+B\n",
        "print(\"Sum:\")\n",
        "print(add)\n",
        "multiply=A*B\n",
        "print(\"Product:\")\n",
        "print(multiply)\n",
        "transposes=np.transpose(multiply)\n",
        "print(\"Transpose:\")\n",
        "print(transposes)"
      ],
      "metadata": {
        "colab": {
          "base_uri": "https://localhost:8080/"
        },
        "id": "_QgGBXho5SU3",
        "outputId": "4d87d45d-73a5-484c-b8ac-2e81fbca17d0"
      },
      "execution_count": 34,
      "outputs": [
        {
          "output_type": "stream",
          "name": "stdout",
          "text": [
            "Sum:\n",
            "[[ 6  7  8]\n",
            " [ 9 10 11]\n",
            " [12 13 14]]\n",
            "Product:\n",
            "[[ 5 10 15]\n",
            " [20 25 30]\n",
            " [35 40 45]]\n",
            "Transpose:\n",
            "[[ 5 20 35]\n",
            " [10 25 40]\n",
            " [15 30 45]]\n"
          ]
        }
      ]
    },
    {
      "cell_type": "code",
      "source": [
        "# 3. Create a NumPy array of 15 random integers between 10 and 100.\n",
        "# ● Replace all values greater than 50 with -1\n",
        "# ● Count how many values were replaced.\n",
        "\n",
        "X=np.random.randint(10,101,size=15)\n",
        "print(X)\n",
        "replaced=np.where(X>50,-1,X)\n",
        "print(replaced)\n",
        "count= np.sum(replaced==-1)\n",
        "print(count)\n"
      ],
      "metadata": {
        "colab": {
          "base_uri": "https://localhost:8080/"
        },
        "id": "a17lJnj38cZ_",
        "outputId": "3d33a8c3-bf98-448f-8c3b-d836ccafddb5"
      },
      "execution_count": 37,
      "outputs": [
        {
          "output_type": "stream",
          "name": "stdout",
          "text": [
            "[100  23  67  56  68  79  18  29  26  36  71  73  11  58  71]\n",
            "[-1 23 -1 -1 -1 -1 18 29 26 36 -1 -1 11 -1 -1]\n",
            "9\n"
          ]
        }
      ]
    },
    {
      "cell_type": "code",
      "source": [
        "# 4. Generate a 5×4 array with random values between 0 and 1 (float).\n",
        "# ● Find the row with the maximum sum of values.\n",
        "# ● Normalize each row using the formula\n",
        "\n",
        "ax = np.random.rand(5, 4)\n",
        "print(ax)\n",
        "ax_new=ax.sum(axis=1)\n",
        "print(ax_new)\n",
        "max=np.max(ax_new)\n",
        "print(max)\n",
        "\n",
        "#Normalise\n",
        "row_min = ax.min(axis=1).reshape(-1, 1)\n",
        "row_max = ax.max(axis=1).reshape(-1, 1)\n",
        "normalised=(ax-row_min)/(row_max-row_min)\n",
        "print(normalised)"
      ],
      "metadata": {
        "colab": {
          "base_uri": "https://localhost:8080/"
        },
        "id": "r9TY_4Uv-lKX",
        "outputId": "ccede63f-a49b-47b8-a093-24a23ca1514c"
      },
      "execution_count": 44,
      "outputs": [
        {
          "output_type": "stream",
          "name": "stdout",
          "text": [
            "[[0.35193795 0.14106956 0.76561329 0.79348767]\n",
            " [0.10352351 0.48035933 0.89334002 0.96485845]\n",
            " [0.31108266 0.02577586 0.11599824 0.19180801]\n",
            " [0.95558698 0.86320028 0.41138357 0.13883569]\n",
            " [0.52441779 0.92118907 0.51160295 0.04619428]]\n",
            "[2.05210847 2.44208132 0.64466476 2.36900652 2.00340408]\n",
            "2.442081320991044\n",
            "[[0.32321051 0.         0.95727528 1.        ]\n",
            " [0.         0.43750207 0.91696793 1.        ]\n",
            " [1.         0.         0.31622933 0.58194248]\n",
            " [1.         0.88688515 0.33369752 0.        ]\n",
            " [0.54654441 1.         0.53189879 0.        ]]\n"
          ]
        }
      ]
    },
    {
      "cell_type": "code",
      "source": [
        "# 5. arr = np.array([1, 3, 5, 3, 7, 9, 1, 5, 5])\n",
        "# ● Find all unique elements\n",
        "# ● Find the duplicates (elements that appear more than once)\n",
        "\n",
        "arr = np.array([1, 3, 5, 3, 7, 9, 1, 5, 5])\n",
        "print(\"Unique:\")\n",
        "print(np.unique(arr))\n",
        "elements,counts=np.unique(arr, return_counts=True)\n",
        "duplicates = elements[counts > 1]\n",
        "print(\"Duplicates:\")\n",
        "print(duplicates)"
      ],
      "metadata": {
        "colab": {
          "base_uri": "https://localhost:8080/"
        },
        "id": "xTgVVudXB3g2",
        "outputId": "01b71402-0ff1-4ccb-8f34-d5fc0e208288"
      },
      "execution_count": 48,
      "outputs": [
        {
          "output_type": "stream",
          "name": "stdout",
          "text": [
            "Unique:\n",
            "[1 3 5 7 9]\n",
            "Duplicates:\n",
            "[1 3 5]\n"
          ]
        }
      ]
    },
    {
      "cell_type": "code",
      "source": [
        "# 6. Create a 6×6 NumPy array with values from 1 to 36.\n",
        "# ● Extract the middle 4×4 submatrix.\n",
        "# ● Then extract all even numbers from this submatrix\n",
        "\n",
        "arr1=np.arange(1,37).reshape(6,6)\n",
        "print(arr1)\n",
        "extracted=arr1[1:-1,1:-1]\n",
        "print(extracted)\n",
        "even=extracted[extracted%2==0]\n",
        "print(even)"
      ],
      "metadata": {
        "colab": {
          "base_uri": "https://localhost:8080/"
        },
        "id": "V413ejdIFW22",
        "outputId": "aeb20144-98a8-4a82-e7d6-84b91d668ed2"
      },
      "execution_count": 58,
      "outputs": [
        {
          "output_type": "stream",
          "name": "stdout",
          "text": [
            "[[ 1  2  3  4  5  6]\n",
            " [ 7  8  9 10 11 12]\n",
            " [13 14 15 16 17 18]\n",
            " [19 20 21 22 23 24]\n",
            " [25 26 27 28 29 30]\n",
            " [31 32 33 34 35 36]]\n",
            "[[ 8  9 10 11]\n",
            " [14 15 16 17]\n",
            " [20 21 22 23]\n",
            " [26 27 28 29]]\n",
            "[ 8 10 14 16 20 22 26 28]\n"
          ]
        }
      ]
    },
    {
      "cell_type": "code",
      "source": [
        "# 7. Generate an array of shape (3, 4) with values from 0 to 11.\n",
        "# ● Reshape it to (2, 6)\n",
        "# ● Then flatten it into a 1D array\n",
        "# ● Convert the 1D array back to shape (4, 3)\n",
        "\n",
        "array=np.arange(0,12).reshape(3,4)\n",
        "print(array)\n",
        "print(\"Reshape it to (2, 6) :\")\n",
        "print(array.reshape(2, 6))\n",
        "print(\"Then flatten it into a 1D array :\")\n",
        "print(array.flatten())\n",
        "print(\"Convert the 1D array back to shape (4, 3): \")\n",
        "print(array.reshape(4, 3))"
      ],
      "metadata": {
        "colab": {
          "base_uri": "https://localhost:8080/"
        },
        "id": "pKQUOBZLLWi2",
        "outputId": "c97bc69a-2f99-4309-ede3-6c615e48bce1"
      },
      "execution_count": 64,
      "outputs": [
        {
          "output_type": "stream",
          "name": "stdout",
          "text": [
            "[[ 0  1  2  3]\n",
            " [ 4  5  6  7]\n",
            " [ 8  9 10 11]]\n",
            "Reshape it to (2, 6) :\n",
            "[[ 0  1  2  3  4  5]\n",
            " [ 6  7  8  9 10 11]]\n",
            "Then flatten it into a 1D array :\n",
            "[ 0  1  2  3  4  5  6  7  8  9 10 11]\n",
            "Convert the 1D array back to shape (4, 3): \n",
            "[[ 0  1  2]\n",
            " [ 3  4  5]\n",
            " [ 6  7  8]\n",
            " [ 9 10 11]]\n"
          ]
        }
      ]
    },
    {
      "cell_type": "code",
      "source": [
        "# 8 . Create an array: a = np.array([[1, 2], [3, 4]])\n",
        "# ● Append a new row [5, 6]\n",
        "# ● Then append a new column [7, 8, 9]\n",
        "\n",
        "a = np.array([[1,2],[3,4]])\n",
        "print(a)\n",
        "a=np.vstack([a,[5,6]])\n",
        "print(a)\n",
        "a=np.column_stack([a,[7, 8, 9]])\n",
        "print(a)"
      ],
      "metadata": {
        "colab": {
          "base_uri": "https://localhost:8080/"
        },
        "id": "WiiI-umJNBbU",
        "outputId": "7d5a4fe4-6fd2-4514-d113-4c36ed011865"
      },
      "execution_count": 70,
      "outputs": [
        {
          "output_type": "stream",
          "name": "stdout",
          "text": [
            "[[1 2]\n",
            " [3 4]]\n",
            "[[1 2]\n",
            " [3 4]\n",
            " [5 6]]\n",
            "[[1 2 7]\n",
            " [3 4 8]\n",
            " [5 6 9]]\n"
          ]
        }
      ]
    },
    {
      "cell_type": "code",
      "source": [
        "# 9.\n",
        "# a = np.array([1, 2, 3])\n",
        "# b = np.array([4, 5, 6])\n",
        "# c = np.array([7, 8, 9])\n",
        "# ● Join them into a single array\n",
        "# ● Reshape the result into a 3×3 matrix\n",
        "# ● Extract the diagonal elements\n",
        "\n",
        "a = np.array([1, 2, 3])\n",
        "b = np.array([4, 5, 6])\n",
        "c = np.array([7, 8, 9])\n",
        "\n",
        "arrconc= np.concatenate((a, b, c))\n",
        "print(arrconc)\n",
        "matrix=arrconc.reshape(3, 3)\n",
        "print(matrix)\n",
        "diag=np.diagonal(matrix)\n",
        "print(diag)"
      ],
      "metadata": {
        "colab": {
          "base_uri": "https://localhost:8080/"
        },
        "id": "WO6w99E1TSqU",
        "outputId": "18fc0fe7-7e65-456c-b36d-fa64837da4e0"
      },
      "execution_count": 73,
      "outputs": [
        {
          "output_type": "stream",
          "name": "stdout",
          "text": [
            "[1 2 3 4 5 6 7 8 9]\n",
            "[[1 2 3]\n",
            " [4 5 6]\n",
            " [7 8 9]]\n",
            "[1 5 9]\n"
          ]
        }
      ]
    },
    {
      "cell_type": "code",
      "source": [
        "# 10. Create a NumPy array of integers from 1 to 20.\n",
        "# ● Extract all values that are divisible by 3 or 5.\n",
        "# ● Count how many such values exist.\n",
        "\n",
        "array=np.arange(1,20)\n",
        "print(array)\n",
        "divisible=array[(array%3==0) | (array%5==0)]\n",
        "print(divisible)\n",
        "divisible.size"
      ],
      "metadata": {
        "colab": {
          "base_uri": "https://localhost:8080/"
        },
        "id": "Tc1nPsviWk5L",
        "outputId": "15d4874e-844f-43ac-8c71-a9705f463d82"
      },
      "execution_count": 80,
      "outputs": [
        {
          "output_type": "stream",
          "name": "stdout",
          "text": [
            "[ 1  2  3  4  5  6  7  8  9 10 11 12 13 14 15 16 17 18 19]\n",
            "[ 3  5  6  9 10 12 15 18]\n"
          ]
        },
        {
          "output_type": "execute_result",
          "data": {
            "text/plain": [
              "8"
            ]
          },
          "metadata": {},
          "execution_count": 80
        }
      ]
    },
    {
      "cell_type": "markdown",
      "source": [],
      "metadata": {
        "id": "d4mdplUkZLah"
      }
    },
    {
      "cell_type": "markdown",
      "source": [
        "# **Pandas**"
      ],
      "metadata": {
        "id": "m6JB36aEZN3C"
      }
    },
    {
      "cell_type": "code",
      "source": [
        "import seaborn as sns\n",
        "data=sns.load_dataset(\"titanic\")\n",
        "# print(data)\n",
        "\n",
        "# 1. Load the Titanic dataset and display the first 10 rows.\n",
        "print(\"\\nLoad the Titanic dataset and display the first 10 rows.\")\n",
        "tenRows=data[:10]\n",
        "print(tenRows)\n",
        "\n",
        "#2. Find the number of missing values in each column.\n",
        "print(\"\\nFind the number of missing values in each column.\")\n",
        "data.isna().sum()\n",
        "\n",
        "#3. Find the percentage of passengers who survived, grouped by gender.\n",
        "print(\"\\nFind the percentage of passengers who survived, grouped by gender.\")\n",
        "\n",
        "survived_male=(data[\"survived\"]==1) & (data[\"sex\"]=='male')\n",
        "survived_female=(data[\"survived\"]==1) & (data[\"sex\"]=='female')\n",
        "percentage_male=((survived_male.sum())/(data[\"sex\"] == 'male').sum())*100\n",
        "percentage_female=((survived_female.sum())/(data[\"sex\"] == 'female').sum())*100\n",
        "print(f\"Survived Percentage of male is {percentage_male}\")\n",
        "print(f\"Survived Percentage of female is {percentage_female}\")\n",
        "\n",
        "# 4. Find the average, median, and standard deviation of passenger ages\n",
        "print(\"\\nFind the average, median, and standard deviation of passenger ages.\")\n",
        "\n",
        "age=data[\"age\"]\n",
        "print(f\"Mean: {np.mean(age)}\")\n",
        "print(f\"Median: {np.median(age)}\")\n",
        "print(f\"Standard Deviation: {np.std(age)}\")\n",
        "\n",
        "# 5. Count how many passengers were in each class (pclass)\n",
        "print(\"\\nCount how many passengers were in each class (pclass)\")\n",
        "\n",
        "firstCount=(data[\"class\"]=='First').sum()\n",
        "secondCount=(data[\"class\"]=='Second').sum()\n",
        "thirdCount=(data[\"class\"]=='Third').sum()\n",
        "print(f\"First class had {firstCount}\")\n",
        "print(f\"Second class had {secondCount}\")\n",
        "print(f\"Third class had {thirdCount}\")\n",
        "\n",
        "# 6. Show all passengers who were female, under age 18, and survived.\n",
        "print(\"\\nShow all passengers who were female, under age 18, and survived.\")\n",
        "\n",
        "selected=data[(data[\"survived\"]==1) & (data[\"sex\"]=='female') &  (data[\"age\"]<18)]\n",
        "print(selected)\n",
        "\n",
        "# 7. Replace missing age values with the median age.\n",
        "# age = age.fillna(age.median())\n",
        "print(\"\\nReplace missing age values with the median age.\")\n",
        "\n",
        "age = np.where(age.isna(), age.median(), age)\n",
        "print(age)\n",
        "\n",
        "# 8. Create a column age_group with values:\n",
        "# a. 'Child' for age < 18\n",
        "# b. 'Adult' for age 18–60\n",
        "# c. 'Senior' for age > 60\n",
        "\n",
        "print(\"\\nCreate a column age_group with values\")\n",
        "\n",
        "conditions = [data['age'] < 18, (data['age'] >= 18) & (data['age'] < 60), data['age']>60]\n",
        "values = ['Child','Adult', 'Senior']\n",
        "data['age_group'] = np.select(conditions, values, default='Unknown')\n",
        "print(data)\n",
        "\n",
        "# 9. Display the top 5 passengers who paid the highest fare\n",
        "print(\"\\nDisplay the top 5 passengers who paid the highest fare\")\n",
        "\n",
        "highest=data.sort_values(\"fare\",ascending=False)\n",
        "print(highest.head())\n",
        "\n",
        "#10. Find the average fare paid, grouped by both pclass and sex.\n",
        "print(\"\\nFind the average fare paid, grouped by both pclass and sex.\")\n",
        "data.groupby(['pclass', 'sex'])['fare'].mean().round(2)\n",
        "\n",
        "# 11. Rename the following columns:\n",
        "# a. 'sex' → 'gender'\n",
        "# b. 'fare' → 'ticket_fare'\n",
        "print(\"\\nRename the following columns\")\n",
        "data.rename(columns = {'sex': 'gender', 'fare':'ticket_fare'}, inplace=True)\n",
        "data.head()\n",
        "\n",
        "# 12. Count the number of passengers who survived and didn’t survive, grouped by class.\n",
        "print(\"\\nCount the number of passengers who survived and didn’t survive, grouped by class.\")\n",
        "print(data.groupby(['pclass', 'survived']).size())\n",
        "\n",
        "# 13. Find the average age of passengers grouped by both class and gender.\n",
        "print(\"\\nFind the average age of passengers grouped by both class and gender.\")\n",
        "print(data.groupby(['pclass', 'gender'])['age'].mean().round(2))"
      ],
      "metadata": {
        "colab": {
          "base_uri": "https://localhost:8080/"
        },
        "id": "RSv_1OB1ZRKy",
        "outputId": "09c89674-68a2-44e7-dd32-477f78fd3f4f"
      },
      "execution_count": 124,
      "outputs": [
        {
          "output_type": "stream",
          "name": "stdout",
          "text": [
            "\n",
            "Load the Titanic dataset and display the first 10 rows.\n",
            "   survived  pclass     sex   age  sibsp  parch     fare embarked   class  \\\n",
            "0         0       3    male  22.0      1      0   7.2500        S   Third   \n",
            "1         1       1  female  38.0      1      0  71.2833        C   First   \n",
            "2         1       3  female  26.0      0      0   7.9250        S   Third   \n",
            "3         1       1  female  35.0      1      0  53.1000        S   First   \n",
            "4         0       3    male  35.0      0      0   8.0500        S   Third   \n",
            "5         0       3    male   NaN      0      0   8.4583        Q   Third   \n",
            "6         0       1    male  54.0      0      0  51.8625        S   First   \n",
            "7         0       3    male   2.0      3      1  21.0750        S   Third   \n",
            "8         1       3  female  27.0      0      2  11.1333        S   Third   \n",
            "9         1       2  female  14.0      1      0  30.0708        C  Second   \n",
            "\n",
            "     who  adult_male deck  embark_town alive  alone  \n",
            "0    man        True  NaN  Southampton    no  False  \n",
            "1  woman       False    C    Cherbourg   yes  False  \n",
            "2  woman       False  NaN  Southampton   yes   True  \n",
            "3  woman       False    C  Southampton   yes  False  \n",
            "4    man        True  NaN  Southampton    no   True  \n",
            "5    man        True  NaN   Queenstown    no   True  \n",
            "6    man        True    E  Southampton    no   True  \n",
            "7  child       False  NaN  Southampton    no  False  \n",
            "8  woman       False  NaN  Southampton   yes  False  \n",
            "9  child       False  NaN    Cherbourg   yes  False  \n",
            "\n",
            "Find the number of missing values in each column.\n",
            "\n",
            "Find the percentage of passengers who survived, grouped by gender.\n",
            "Survived Percentage of male is 18.890814558058924\n",
            "Survived Percentage of female is 74.20382165605095\n",
            "\n",
            "Find the average, median, and standard deviation of passenger ages.\n",
            "Mean: 29.69911764705882\n",
            "Median: nan\n",
            "Standard Deviation: 14.516321150817317\n",
            "\n",
            "Count how many passengers were in each class (pclass)\n",
            "First class had 216\n",
            "Second class had 184\n",
            "Third class had 491\n",
            "\n",
            "Show all passengers who were female, under age 18, and survived.\n",
            "     survived  pclass     sex    age  sibsp  parch      fare embarked   class  \\\n",
            "9           1       2  female  14.00      1      0   30.0708        C  Second   \n",
            "10          1       3  female   4.00      1      1   16.7000        S   Third   \n",
            "22          1       3  female  15.00      0      0    8.0292        Q   Third   \n",
            "39          1       3  female  14.00      1      0   11.2417        C   Third   \n",
            "43          1       2  female   3.00      1      2   41.5792        C  Second   \n",
            "58          1       2  female   5.00      1      2   27.7500        S  Second   \n",
            "68          1       3  female  17.00      4      2    7.9250        S   Third   \n",
            "84          1       2  female  17.00      0      0   10.5000        S  Second   \n",
            "156         1       3  female  16.00      0      0    7.7333        Q   Third   \n",
            "172         1       3  female   1.00      1      1   11.1333        S   Third   \n",
            "184         1       3  female   4.00      0      2   22.0250        S   Third   \n",
            "208         1       3  female  16.00      0      0    7.7500        Q   Third   \n",
            "233         1       3  female   5.00      4      2   31.3875        S   Third   \n",
            "237         1       2  female   8.00      0      2   26.2500        S  Second   \n",
            "307         1       1  female  17.00      1      0  108.9000        C   First   \n",
            "329         1       1  female  16.00      0      1   57.9792        C   First   \n",
            "381         1       3  female   1.00      0      2   15.7417        C   Third   \n",
            "389         1       2  female  17.00      0      0   12.0000        C  Second   \n",
            "435         1       1  female  14.00      1      2  120.0000        S   First   \n",
            "446         1       2  female  13.00      0      1   19.5000        S  Second   \n",
            "448         1       3  female   5.00      2      1   19.2583        C   Third   \n",
            "469         1       3  female   0.75      2      1   19.2583        C   Third   \n",
            "479         1       3  female   2.00      0      1   12.2875        S   Third   \n",
            "504         1       1  female  16.00      0      0   86.5000        S   First   \n",
            "530         1       2  female   2.00      1      1   26.0000        S  Second   \n",
            "535         1       2  female   7.00      0      2   26.2500        S  Second   \n",
            "618         1       2  female   4.00      2      1   39.0000        S  Second   \n",
            "644         1       3  female   0.75      2      1   19.2583        C   Third   \n",
            "689         1       1  female  15.00      0      1  211.3375        S   First   \n",
            "691         1       3  female   4.00      0      1   13.4167        C   Third   \n",
            "720         1       2  female   6.00      0      1   33.0000        S  Second   \n",
            "750         1       2  female   4.00      1      1   23.0000        S  Second   \n",
            "777         1       3  female   5.00      0      0   12.4750        S   Third   \n",
            "780         1       3  female  13.00      0      0    7.2292        C   Third   \n",
            "781         1       1  female  17.00      1      0   57.0000        S   First   \n",
            "830         1       3  female  15.00      1      0   14.4542        C   Third   \n",
            "853         1       1  female  16.00      0      1   39.4000        S   First   \n",
            "875         1       3  female  15.00      0      0    7.2250        C   Third   \n",
            "\n",
            "       who  adult_male deck  embark_town alive  alone  \n",
            "9    child       False  NaN    Cherbourg   yes  False  \n",
            "10   child       False    G  Southampton   yes  False  \n",
            "22   child       False  NaN   Queenstown   yes   True  \n",
            "39   child       False  NaN    Cherbourg   yes  False  \n",
            "43   child       False  NaN    Cherbourg   yes  False  \n",
            "58   child       False  NaN  Southampton   yes  False  \n",
            "68   woman       False  NaN  Southampton   yes  False  \n",
            "84   woman       False  NaN  Southampton   yes   True  \n",
            "156  woman       False  NaN   Queenstown   yes   True  \n",
            "172  child       False  NaN  Southampton   yes  False  \n",
            "184  child       False  NaN  Southampton   yes  False  \n",
            "208  woman       False  NaN   Queenstown   yes   True  \n",
            "233  child       False  NaN  Southampton   yes  False  \n",
            "237  child       False  NaN  Southampton   yes  False  \n",
            "307  woman       False    C    Cherbourg   yes  False  \n",
            "329  woman       False    B    Cherbourg   yes  False  \n",
            "381  child       False  NaN    Cherbourg   yes  False  \n",
            "389  woman       False  NaN    Cherbourg   yes   True  \n",
            "435  child       False    B  Southampton   yes  False  \n",
            "446  child       False  NaN  Southampton   yes  False  \n",
            "448  child       False  NaN    Cherbourg   yes  False  \n",
            "469  child       False  NaN    Cherbourg   yes  False  \n",
            "479  child       False  NaN  Southampton   yes  False  \n",
            "504  woman       False    B  Southampton   yes   True  \n",
            "530  child       False  NaN  Southampton   yes  False  \n",
            "535  child       False  NaN  Southampton   yes  False  \n",
            "618  child       False    F  Southampton   yes  False  \n",
            "644  child       False  NaN    Cherbourg   yes  False  \n",
            "689  child       False    B  Southampton   yes  False  \n",
            "691  child       False  NaN    Cherbourg   yes  False  \n",
            "720  child       False  NaN  Southampton   yes  False  \n",
            "750  child       False  NaN  Southampton   yes  False  \n",
            "777  child       False  NaN  Southampton   yes   True  \n",
            "780  child       False  NaN    Cherbourg   yes   True  \n",
            "781  woman       False    B  Southampton   yes  False  \n",
            "830  child       False  NaN    Cherbourg   yes  False  \n",
            "853  woman       False    D  Southampton   yes  False  \n",
            "875  child       False  NaN    Cherbourg   yes   True  \n",
            "\n",
            "Replace missing age values with the median age.\n",
            "[22.   38.   26.   35.   35.   28.   54.    2.   27.   14.    4.   58.\n",
            " 20.   39.   14.   55.    2.   28.   31.   28.   35.   34.   15.   28.\n",
            "  8.   38.   28.   19.   28.   28.   40.   28.   28.   66.   28.   42.\n",
            " 28.   21.   18.   14.   40.   27.   28.    3.   19.   28.   28.   28.\n",
            " 28.   18.    7.   21.   49.   29.   65.   28.   21.   28.5   5.   11.\n",
            " 22.   38.   45.    4.   28.   28.   29.   19.   17.   26.   32.   16.\n",
            " 21.   26.   32.   25.   28.   28.    0.83 30.   22.   29.   28.   28.\n",
            " 17.   33.   16.   28.   23.   24.   29.   20.   46.   26.   59.   28.\n",
            " 71.   23.   34.   34.   28.   28.   21.   33.   37.   28.   21.   28.\n",
            " 38.   28.   47.   14.5  22.   20.   17.   21.   70.5  29.   24.    2.\n",
            " 21.   28.   32.5  32.5  54.   12.   28.   24.   28.   45.   33.   20.\n",
            " 47.   29.   25.   23.   19.   37.   16.   24.   28.   22.   24.   19.\n",
            " 18.   19.   27.    9.   36.5  42.   51.   22.   55.5  40.5  28.   51.\n",
            " 16.   30.   28.   28.   44.   40.   26.   17.    1.    9.   28.   45.\n",
            " 28.   28.   61.    4.    1.   21.   56.   18.   28.   50.   30.   36.\n",
            " 28.   28.    9.    1.    4.   28.   28.   45.   40.   36.   32.   19.\n",
            " 19.    3.   44.   58.   28.   42.   28.   24.   28.   28.   34.   45.5\n",
            " 18.    2.   32.   26.   16.   40.   24.   35.   22.   30.   28.   31.\n",
            " 27.   42.   32.   30.   16.   27.   51.   28.   38.   22.   19.   20.5\n",
            " 18.   28.   35.   29.   59.    5.   24.   28.   44.    8.   19.   33.\n",
            " 28.   28.   29.   22.   30.   44.   25.   24.   37.   54.   28.   29.\n",
            " 62.   30.   41.   29.   28.   30.   35.   50.   28.    3.   52.   40.\n",
            " 28.   36.   16.   25.   58.   35.   28.   25.   41.   37.   28.   63.\n",
            " 45.   28.    7.   35.   65.   28.   16.   19.   28.   33.   30.   22.\n",
            " 42.   22.   26.   19.   36.   24.   24.   28.   23.5   2.   28.   50.\n",
            " 28.   28.   19.   28.   28.    0.92 28.   17.   30.   30.   24.   18.\n",
            " 26.   28.   43.   26.   24.   54.   31.   40.   22.   27.   30.   22.\n",
            " 28.   36.   61.   36.   31.   16.   28.   45.5  38.   16.   28.   28.\n",
            " 29.   41.   45.   45.    2.   24.   28.   25.   36.   24.   40.   28.\n",
            "  3.   42.   23.   28.   15.   25.   28.   28.   22.   38.   28.   28.\n",
            " 40.   29.   45.   35.   28.   30.   60.   28.   28.   24.   25.   18.\n",
            " 19.   22.    3.   28.   22.   27.   20.   19.   42.    1.   32.   35.\n",
            " 28.   18.    1.   36.   28.   17.   36.   21.   28.   23.   24.   22.\n",
            " 31.   46.   23.   28.   39.   26.   21.   28.   20.   34.   51.    3.\n",
            " 21.   28.   28.   28.   33.   28.   44.   28.   34.   18.   30.   10.\n",
            " 28.   21.   29.   28.   18.   28.   28.   19.   28.   32.   28.   28.\n",
            " 42.   17.   50.   14.   21.   24.   64.   31.   45.   20.   25.   28.\n",
            " 28.    4.   13.   34.    5.   52.   36.   28.   30.   49.   28.   29.\n",
            " 65.   28.   50.   28.   48.   34.   47.   48.   28.   38.   28.   56.\n",
            " 28.    0.75 28.   38.   33.   23.   22.   28.   34.   29.   22.    2.\n",
            "  9.   28.   50.   63.   25.   28.   35.   58.   30.    9.   28.   21.\n",
            " 55.   71.   21.   28.   54.   28.   25.   24.   17.   21.   28.   37.\n",
            " 16.   18.   33.   28.   28.   26.   29.   28.   36.   54.   24.   47.\n",
            " 34.   28.   36.   32.   30.   22.   28.   44.   28.   40.5  50.   28.\n",
            " 39.   23.    2.   28.   17.   28.   30.    7.   45.   30.   28.   22.\n",
            " 36.    9.   11.   32.   50.   64.   19.   28.   33.    8.   17.   27.\n",
            " 28.   22.   22.   62.   48.   28.   39.   36.   28.   40.   28.   28.\n",
            " 28.   24.   19.   29.   28.   32.   62.   53.   36.   28.   16.   19.\n",
            " 34.   39.   28.   32.   25.   39.   54.   36.   28.   18.   47.   60.\n",
            " 22.   28.   35.   52.   47.   28.   37.   36.   28.   49.   28.   49.\n",
            " 24.   28.   28.   44.   35.   36.   30.   27.   22.   40.   39.   28.\n",
            " 28.   28.   35.   24.   34.   26.    4.   26.   27.   42.   20.   21.\n",
            " 21.   61.   57.   21.   26.   28.   80.   51.   32.   28.    9.   28.\n",
            " 32.   31.   41.   28.   20.   24.    2.   28.    0.75 48.   19.   56.\n",
            " 28.   23.   28.   18.   21.   28.   18.   24.   28.   32.   23.   58.\n",
            " 50.   40.   47.   36.   20.   32.   25.   28.   43.   28.   40.   31.\n",
            " 70.   31.   28.   18.   24.5  18.   43.   36.   28.   27.   20.   14.\n",
            " 60.   25.   14.   19.   18.   15.   31.    4.   28.   25.   60.   52.\n",
            " 44.   28.   49.   42.   18.   35.   18.   25.   26.   39.   45.   42.\n",
            " 22.   28.   24.   28.   48.   29.   52.   19.   38.   27.   28.   33.\n",
            "  6.   17.   34.   50.   27.   20.   30.   28.   25.   25.   29.   11.\n",
            " 28.   23.   23.   28.5  48.   35.   28.   28.   28.   36.   21.   24.\n",
            " 31.   70.   16.   30.   19.   31.    4.    6.   33.   23.   48.    0.67\n",
            " 28.   18.   34.   33.   28.   41.   20.   36.   16.   51.   28.   30.5\n",
            " 28.   32.   24.   48.   57.   28.   54.   18.   28.    5.   28.   43.\n",
            " 13.   17.   29.   28.   25.   25.   18.    8.    1.   46.   28.   16.\n",
            " 28.   28.   25.   39.   49.   31.   30.   30.   34.   31.   11.    0.42\n",
            " 27.   31.   39.   18.   39.   33.   26.   39.   35.    6.   30.5  28.\n",
            " 23.   31.   43.   10.   52.   27.   38.   27.    2.   28.   28.    1.\n",
            " 28.   62.   15.    0.83 28.   23.   18.   39.   21.   28.   32.   28.\n",
            " 20.   16.   30.   34.5  17.   42.   28.   35.   28.   28.    4.   74.\n",
            "  9.   16.   44.   18.   45.   51.   24.   28.   41.   21.   48.   28.\n",
            " 24.   42.   27.   31.   28.    4.   26.   47.   33.   47.   28.   15.\n",
            " 20.   19.   28.   56.   25.   33.   22.   28.   25.   39.   27.   19.\n",
            " 28.   26.   32.  ]\n",
            "\n",
            "Create a column age_group with values\n",
            "     survived  pclass     sex   age  sibsp  parch     fare embarked   class  \\\n",
            "0           0       3    male  22.0      1      0   7.2500        S   Third   \n",
            "1           1       1  female  38.0      1      0  71.2833        C   First   \n",
            "2           1       3  female  26.0      0      0   7.9250        S   Third   \n",
            "3           1       1  female  35.0      1      0  53.1000        S   First   \n",
            "4           0       3    male  35.0      0      0   8.0500        S   Third   \n",
            "..        ...     ...     ...   ...    ...    ...      ...      ...     ...   \n",
            "886         0       2    male  27.0      0      0  13.0000        S  Second   \n",
            "887         1       1  female  19.0      0      0  30.0000        S   First   \n",
            "888         0       3  female   NaN      1      2  23.4500        S   Third   \n",
            "889         1       1    male  26.0      0      0  30.0000        C   First   \n",
            "890         0       3    male  32.0      0      0   7.7500        Q   Third   \n",
            "\n",
            "       who  adult_male deck  embark_town alive  alone age_group  \n",
            "0      man        True  NaN  Southampton    no  False     Adult  \n",
            "1    woman       False    C    Cherbourg   yes  False     Adult  \n",
            "2    woman       False  NaN  Southampton   yes   True     Adult  \n",
            "3    woman       False    C  Southampton   yes  False     Adult  \n",
            "4      man        True  NaN  Southampton    no   True     Adult  \n",
            "..     ...         ...  ...          ...   ...    ...       ...  \n",
            "886    man        True  NaN  Southampton    no   True     Adult  \n",
            "887  woman       False    B  Southampton   yes   True     Adult  \n",
            "888  woman       False  NaN  Southampton    no  False   Unknown  \n",
            "889    man        True    C    Cherbourg   yes   True     Adult  \n",
            "890    man        True  NaN   Queenstown    no   True     Adult  \n",
            "\n",
            "[891 rows x 16 columns]\n",
            "\n",
            "Display the top 5 passengers who paid the highest fare\n",
            "     survived  pclass     sex   age  sibsp  parch      fare embarked  class  \\\n",
            "679         1       1    male  36.0      0      1  512.3292        C  First   \n",
            "258         1       1  female  35.0      0      0  512.3292        C  First   \n",
            "737         1       1    male  35.0      0      0  512.3292        C  First   \n",
            "88          1       1  female  23.0      3      2  263.0000        S  First   \n",
            "438         0       1    male  64.0      1      4  263.0000        S  First   \n",
            "\n",
            "       who  adult_male deck  embark_town alive  alone age_group  \n",
            "679    man        True    B    Cherbourg   yes  False     Adult  \n",
            "258  woman       False  NaN    Cherbourg   yes   True     Adult  \n",
            "737    man        True    B    Cherbourg   yes   True     Adult  \n",
            "88   woman       False    C  Southampton   yes  False     Adult  \n",
            "438    man        True    C  Southampton    no  False    Senior  \n",
            "\n",
            "Find the average fare paid, grouped by both pclass and sex.\n",
            "\n",
            "Rename the following columns\n",
            "\n",
            "Count the number of passengers who survived and didn’t survive, grouped by class.\n",
            "pclass  survived\n",
            "1       0            80\n",
            "        1           136\n",
            "2       0            97\n",
            "        1            87\n",
            "3       0           372\n",
            "        1           119\n",
            "dtype: int64\n",
            "\n",
            "Find the average age of passengers grouped by both class and gender.\n",
            "pclass  gender\n",
            "1       female    34.61\n",
            "        male      41.28\n",
            "2       female    28.72\n",
            "        male      30.74\n",
            "3       female    21.75\n",
            "        male      26.51\n",
            "Name: age, dtype: float64\n"
          ]
        }
      ]
    }
  ]
}