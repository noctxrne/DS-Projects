{
  "nbformat": 4,
  "nbformat_minor": 0,
  "metadata": {
    "colab": {
      "provenance": [],
      "include_colab_link": true
    },
    "kernelspec": {
      "name": "python3",
      "display_name": "Python 3"
    },
    "language_info": {
      "name": "python"
    }
  },
  "cells": [
    {
      "cell_type": "markdown",
      "metadata": {
        "id": "view-in-github",
        "colab_type": "text"
      },
      "source": [
        "<a href=\"https://colab.research.google.com/github/noctxrne/DSA-ICT/blob/main/Python_Case_Study_Saketh_DSA_B6.ipynb\" target=\"_parent\"><img src=\"https://colab.research.google.com/assets/colab-badge.svg\" alt=\"Open In Colab\"/></a>"
      ]
    },
    {
      "cell_type": "markdown",
      "source": [
        "# Answer the following questions using only builtin Python datatypes and functions. Do not use Numpy or Scipy (i.e. No library imports allowed)"
      ],
      "metadata": {
        "id": "zVV_KMSIUG-A"
      }
    },
    {
      "cell_type": "markdown",
      "source": [
        "# Q1. Write a function that return the range (maximum and minimun) of a given list of numbers"
      ],
      "metadata": {
        "id": "uZnK7VgWV5SI"
      }
    },
    {
      "cell_type": "code",
      "source": [
        "def maxmin(list):\n",
        "  max=0\n",
        "  min=list_[0]\n",
        "  for i in list_:\n",
        "    if i>max:\n",
        "      max=i\n",
        "  for i in list_:\n",
        "    if i<min:\n",
        "      min=i\n",
        "  print(f\"minimum is {min}\")\n",
        "  print(f\"maximum is {max}\")\n",
        "\n",
        "list_=[6,2,7,4,9]\n",
        "maxmin(list)"
      ],
      "metadata": {
        "id": "vuAbJQcOWAM7",
        "colab": {
          "base_uri": "https://localhost:8080/"
        },
        "outputId": "18d91a61-4229-4fc3-bbd2-2d2d32fdd15c"
      },
      "execution_count": null,
      "outputs": [
        {
          "output_type": "stream",
          "name": "stdout",
          "text": [
            "minimum is 2\n",
            "maximum is 9\n"
          ]
        }
      ]
    },
    {
      "cell_type": "markdown",
      "source": [
        "## Q2. Write function that returns mean value of a list of numbers"
      ],
      "metadata": {
        "id": "Y5_v5a8_U1O-"
      }
    },
    {
      "cell_type": "code",
      "source": [
        "def meanvalue(list_):\n",
        "  sum=0\n",
        "  n=len(list_)\n",
        "  for i in list_:\n",
        "    sum+=i\n",
        "  mean=sum/n\n",
        "  return mean\n",
        "\n",
        "list_=[6,2,7,4,9]\n",
        "meanvalue(list_)"
      ],
      "metadata": {
        "id": "RajjEyacU7Sc",
        "colab": {
          "base_uri": "https://localhost:8080/"
        },
        "outputId": "41d7b886-20c4-48fc-f16d-53d59c947892"
      },
      "execution_count": null,
      "outputs": [
        {
          "output_type": "execute_result",
          "data": {
            "text/plain": [
              "5.6"
            ]
          },
          "metadata": {},
          "execution_count": 3
        }
      ]
    },
    {
      "cell_type": "markdown",
      "source": [
        "# Q3. Write a function that returns the median value of a list of numbers"
      ],
      "metadata": {
        "id": "OpeRxoEoVTIP"
      }
    },
    {
      "cell_type": "code",
      "source": [
        "def median(data):\n",
        "  data.sort()\n",
        "  n=len(data)\n",
        "  if n%2==1:\n",
        "      median=data[n//2]\n",
        "  else:\n",
        "      median=(data[n//2-1]+data[n//2])/2\n",
        "  return median\n",
        "l=[1,3,5,7,9,10]\n",
        "median(l)"
      ],
      "metadata": {
        "id": "u1CUy0UOVaQi",
        "colab": {
          "base_uri": "https://localhost:8080/"
        },
        "outputId": "02a41651-94b2-41ad-b152-a7a4f59f3a14"
      },
      "execution_count": null,
      "outputs": [
        {
          "output_type": "execute_result",
          "data": {
            "text/plain": [
              "6.0"
            ]
          },
          "metadata": {},
          "execution_count": 31
        }
      ]
    },
    {
      "cell_type": "markdown",
      "source": [
        "## Q4. Write a function to return the mod of a list of numbers, if no mod exists, it should return None. If more than one mod exist, return the mod values as list"
      ],
      "metadata": {
        "id": "2EMOG7AZSqVn"
      }
    },
    {
      "cell_type": "code",
      "execution_count": null,
      "metadata": {
        "id": "qnMm2dhhSk3-",
        "colab": {
          "base_uri": "https://localhost:8080/"
        },
        "outputId": "897403ef-b4c4-4a8e-ad25-3e0ec87d1946"
      },
      "outputs": [
        {
          "output_type": "execute_result",
          "data": {
            "text/plain": [
              "[7]"
            ]
          },
          "metadata": {},
          "execution_count": 30
        }
      ],
      "source": [
        "def modlist(data):\n",
        "  n = len(data)\n",
        "  count=0\n",
        "  max_count=0\n",
        "  flag=1\n",
        "  mode={}\n",
        "  data.sort()\n",
        "  for i in data:\n",
        "    count=0\n",
        "    for j in data:\n",
        "      if i==j:\n",
        "        count+=1\n",
        "    mode[i]=count\n",
        "\n",
        "  for i in data:\n",
        "    if(mode[i]>max_count):\n",
        "      max_count=mode[i]\n",
        "  mod_list=[]\n",
        "  for key, value in mode.items():\n",
        "    if value == max_count and value>1:\n",
        "      mod_list.append(key)\n",
        "      flag=0\n",
        "\n",
        "  if flag==1:\n",
        "    return \"None\"\n",
        "  return(mod_list)\n",
        "\n",
        "data = [1, 3,10,7,7,9,180]\n",
        "modlist(data)\n"
      ]
    },
    {
      "cell_type": "markdown",
      "source": [
        "## Q5. Write function to compute a given percentile value (e.g. 90th percentile) of a list of numbers"
      ],
      "metadata": {
        "id": "LcqWwqtgTCiL"
      }
    },
    {
      "cell_type": "code",
      "source": [
        "def percentile(data,perc):\n",
        "  percentile_value= perc/100\n",
        "  data.sort()\n",
        "  percentile=int(percentile_value*len(data))\n",
        "  print(f\"Percentile is {data[percentile]}\")\n",
        "\n",
        "data = [8,15,22,10,8,12,16,19,10,5,8,14,25,10,18,7,11,21,13,2,14]\n",
        "perc=90\n",
        "percentile(data,perc)"
      ],
      "metadata": {
        "id": "Sn307h0TTb2b",
        "colab": {
          "base_uri": "https://localhost:8080/"
        },
        "outputId": "048d6739-6931-4004-805c-b449ebc638a0"
      },
      "execution_count": null,
      "outputs": [
        {
          "output_type": "stream",
          "name": "stdout",
          "text": [
            "Percentile is 21\n"
          ]
        }
      ]
    },
    {
      "cell_type": "markdown",
      "source": [
        "# Q6. Write a function that returns the lower bound of a list of numbers"
      ],
      "metadata": {
        "id": "N-TYHkDcWOfS"
      }
    },
    {
      "cell_type": "code",
      "source": [
        "def lowerBound(data):\n",
        "  data.sort()\n",
        "  q1=data[int(.25*len(data))]\n",
        "  q3=data[int(.75*len(data))]\n",
        "  iqr=q3-q1\n",
        "  lower_limit=q1-1.5*iqr\n",
        "  return lower_limit\n",
        "\n",
        "data = [8,15,22,10,8,12,16,19,10,5,8,14,25,10,18,7,11,21,13,2,14]\n",
        "lowerBound(data)\n"
      ],
      "metadata": {
        "id": "Y-RKPdKuW5nx",
        "colab": {
          "base_uri": "https://localhost:8080/"
        },
        "outputId": "c9e8b150-f07e-4510-8d63-ccf11151d76e"
      },
      "execution_count": null,
      "outputs": [
        {
          "output_type": "execute_result",
          "data": {
            "text/plain": [
              "-4.0"
            ]
          },
          "metadata": {},
          "execution_count": 2
        }
      ]
    },
    {
      "cell_type": "markdown",
      "source": [
        "## Q7. Write function to return any outliers from a given list of numbers, if no outliers present it should return None"
      ],
      "metadata": {
        "id": "5aHfaI_jThpX"
      }
    },
    {
      "cell_type": "code",
      "source": [
        "def outliers(data):\n",
        "  outliers=[]\n",
        "  for i in data:\n",
        "    if i>=lowerBound(data) and i<=upperBound(data):\n",
        "      return \"None\"\n",
        "    else:\n",
        "      outliers.append(i)\n",
        "      flag=1\n",
        "  if flag==1:\n",
        "    return outliers\n",
        "\n",
        "def upperBound(data):\n",
        "  data.sort()\n",
        "  q1=int(.25*len(data))\n",
        "  q3=int(.75*len(data))\n",
        "  iqr=q3-q1\n",
        "  upper_limit=q3-1.5*iqr\n",
        "  return upper_limit\n",
        "\n",
        "data = [1, 3,3,10,7,7, 9,80]\n",
        "flag=0\n",
        "outliers(data)\n",
        "\n",
        "\n"
      ],
      "metadata": {
        "id": "gG6-qzT7T0Si",
        "colab": {
          "base_uri": "https://localhost:8080/"
        },
        "outputId": "157a9832-4777-4f98-acb2-7bc3051c0903"
      },
      "execution_count": null,
      "outputs": [
        {
          "output_type": "execute_result",
          "data": {
            "text/plain": [
              "[1, 3, 3, 7, 7, 9, 10, 80]"
            ]
          },
          "metadata": {},
          "execution_count": 38
        }
      ]
    },
    {
      "cell_type": "markdown",
      "source": [
        "##Q8. Write a function to return standard deviation of a list of numbers"
      ],
      "metadata": {
        "id": "jI9t-tcDT5EK"
      }
    },
    {
      "cell_type": "code",
      "source": [
        "def stdDeviation(data):\n",
        "  score_deviation_square=[]\n",
        "  numerator_variance=0\n",
        "  sum=0\n",
        "  for i in data:\n",
        "    score_deviation_square=(i-meanvalue(data))**2\n",
        "    sum+=score_deviation_square\n",
        "    # numerator_variance+=((i-meanvalue(data))**2)\n",
        "\n",
        "  variance=sum/len(data)\n",
        "  std_deviation=variance**(.5)\n",
        "  return std_deviation\n",
        "\n",
        "data = [1, 3,3,10,7,7, 9,80]\n",
        "stdDeviation(data)"
      ],
      "metadata": {
        "id": "MMU_cMlLUFxJ",
        "colab": {
          "base_uri": "https://localhost:8080/"
        },
        "outputId": "bde8ec24-eb72-4e83-a6d2-cacdf32739a2"
      },
      "execution_count": null,
      "outputs": [
        {
          "output_type": "execute_result",
          "data": {
            "text/plain": [
              "24.743686063317245"
            ]
          },
          "metadata": {},
          "execution_count": 4
        }
      ]
    },
    {
      "cell_type": "markdown",
      "source": [
        "## Q9. Write function to compute and return Z-score values of a list of numbers"
      ],
      "metadata": {
        "id": "LufmQDJPURkM"
      }
    },
    {
      "cell_type": "code",
      "source": [
        "def zScore(data):\n",
        "  data.sort()\n",
        "  for i in data:\n",
        "    z_scores_numerator = (i - meanvalue(data))\n",
        "  z_scores=z_scores_numerator/stdDeviation(data)\n",
        "  return z_scores\n",
        "\n",
        "data = [1, 3,3,10,7,7, 9,80]\n",
        "zScore(data)\n"
      ],
      "metadata": {
        "id": "ml2qpSpFUYxV",
        "colab": {
          "base_uri": "https://localhost:8080/"
        },
        "outputId": "01bd0844-a921-4c41-8298-8838abdac288"
      },
      "execution_count": null,
      "outputs": [
        {
          "output_type": "execute_result",
          "data": {
            "text/plain": [
              "2.6269327792823534"
            ]
          },
          "metadata": {},
          "execution_count": 25
        }
      ]
    },
    {
      "cell_type": "markdown",
      "source": [
        "## Q10. Write a function to compute and return the Pearson correlation coefficient value of two list of numbers"
      ],
      "metadata": {
        "id": "YQSNHIfxUb6s"
      }
    },
    {
      "cell_type": "code",
      "source": [
        "def pearson_corr_coeff(lst_x, lst_y):\n",
        "  x_mean = meanvalue(x)\n",
        "  y_mean = meanvalue(y)\n",
        "  std_x = stdDeviation(x)\n",
        "  std_y = stdDeviation(y)\n",
        "\n",
        "  xi_minus_xmean_list = [xi - x_mean for xi in x]\n",
        "  yi_minus_ymean_list = [yi - y_mean for yi in y]\n",
        "\n",
        "  products = [x * y for x, y in zip(xi_minus_xmean_list, yi_minus_ymean_list)]\n",
        "\n",
        "  covariance = sum(products)/len(x)\n",
        "  pearson_correlation_coefficient = covariance/(std_x * std_y)\n",
        "\n",
        "  return pearson_correlation_coefficient\n",
        "\n",
        "\n",
        "x = [15, 8, 22, 10, 12, 16, 19, 10, 5, 8, 14, 25, 10, 18, 7, 11, 21, 13, 2, 14, 12]\n",
        "y = [37, 20, 49, 22, 28, 38, 44, 26, 14, 21, 33, 56, 24, 40, 18, 29, 45, 30, 11, 34, 29]\n",
        "pearson_corr_coeff(x, y)\n",
        "\n"
      ],
      "metadata": {
        "id": "1YGqr3T6Uk6H",
        "colab": {
          "base_uri": "https://localhost:8080/",
          "height": 348
        },
        "outputId": "e2302388-40bf-49b7-ede7-ed8b934e2cca"
      },
      "execution_count": null,
      "outputs": [
        {
          "output_type": "error",
          "ename": "TypeError",
          "evalue": "'float' object is not callable",
          "traceback": [
            "\u001b[0;31m---------------------------------------------------------------------------\u001b[0m",
            "\u001b[0;31mTypeError\u001b[0m                                 Traceback (most recent call last)",
            "\u001b[0;32m/tmp/ipython-input-666362567.py\u001b[0m in \u001b[0;36m<cell line: 0>\u001b[0;34m()\u001b[0m\n\u001b[1;32m     18\u001b[0m \u001b[0mx\u001b[0m \u001b[0;34m=\u001b[0m \u001b[0;34m[\u001b[0m\u001b[0;36m15\u001b[0m\u001b[0;34m,\u001b[0m \u001b[0;36m8\u001b[0m\u001b[0;34m,\u001b[0m \u001b[0;36m22\u001b[0m\u001b[0;34m,\u001b[0m \u001b[0;36m10\u001b[0m\u001b[0;34m,\u001b[0m \u001b[0;36m12\u001b[0m\u001b[0;34m,\u001b[0m \u001b[0;36m16\u001b[0m\u001b[0;34m,\u001b[0m \u001b[0;36m19\u001b[0m\u001b[0;34m,\u001b[0m \u001b[0;36m10\u001b[0m\u001b[0;34m,\u001b[0m \u001b[0;36m5\u001b[0m\u001b[0;34m,\u001b[0m \u001b[0;36m8\u001b[0m\u001b[0;34m,\u001b[0m \u001b[0;36m14\u001b[0m\u001b[0;34m,\u001b[0m \u001b[0;36m25\u001b[0m\u001b[0;34m,\u001b[0m \u001b[0;36m10\u001b[0m\u001b[0;34m,\u001b[0m \u001b[0;36m18\u001b[0m\u001b[0;34m,\u001b[0m \u001b[0;36m7\u001b[0m\u001b[0;34m,\u001b[0m \u001b[0;36m11\u001b[0m\u001b[0;34m,\u001b[0m \u001b[0;36m21\u001b[0m\u001b[0;34m,\u001b[0m \u001b[0;36m13\u001b[0m\u001b[0;34m,\u001b[0m \u001b[0;36m2\u001b[0m\u001b[0;34m,\u001b[0m \u001b[0;36m14\u001b[0m\u001b[0;34m,\u001b[0m \u001b[0;36m12\u001b[0m\u001b[0;34m]\u001b[0m\u001b[0;34m\u001b[0m\u001b[0;34m\u001b[0m\u001b[0m\n\u001b[1;32m     19\u001b[0m \u001b[0my\u001b[0m \u001b[0;34m=\u001b[0m \u001b[0;34m[\u001b[0m\u001b[0;36m37\u001b[0m\u001b[0;34m,\u001b[0m \u001b[0;36m20\u001b[0m\u001b[0;34m,\u001b[0m \u001b[0;36m49\u001b[0m\u001b[0;34m,\u001b[0m \u001b[0;36m22\u001b[0m\u001b[0;34m,\u001b[0m \u001b[0;36m28\u001b[0m\u001b[0;34m,\u001b[0m \u001b[0;36m38\u001b[0m\u001b[0;34m,\u001b[0m \u001b[0;36m44\u001b[0m\u001b[0;34m,\u001b[0m \u001b[0;36m26\u001b[0m\u001b[0;34m,\u001b[0m \u001b[0;36m14\u001b[0m\u001b[0;34m,\u001b[0m \u001b[0;36m21\u001b[0m\u001b[0;34m,\u001b[0m \u001b[0;36m33\u001b[0m\u001b[0;34m,\u001b[0m \u001b[0;36m56\u001b[0m\u001b[0;34m,\u001b[0m \u001b[0;36m24\u001b[0m\u001b[0;34m,\u001b[0m \u001b[0;36m40\u001b[0m\u001b[0;34m,\u001b[0m \u001b[0;36m18\u001b[0m\u001b[0;34m,\u001b[0m \u001b[0;36m29\u001b[0m\u001b[0;34m,\u001b[0m \u001b[0;36m45\u001b[0m\u001b[0;34m,\u001b[0m \u001b[0;36m30\u001b[0m\u001b[0;34m,\u001b[0m \u001b[0;36m11\u001b[0m\u001b[0;34m,\u001b[0m \u001b[0;36m34\u001b[0m\u001b[0;34m,\u001b[0m \u001b[0;36m29\u001b[0m\u001b[0;34m]\u001b[0m\u001b[0;34m\u001b[0m\u001b[0;34m\u001b[0m\u001b[0m\n\u001b[0;32m---> 20\u001b[0;31m \u001b[0mpearson_corr_coeff\u001b[0m\u001b[0;34m(\u001b[0m\u001b[0mx\u001b[0m\u001b[0;34m,\u001b[0m \u001b[0my\u001b[0m\u001b[0;34m)\u001b[0m\u001b[0;34m\u001b[0m\u001b[0;34m\u001b[0m\u001b[0m\n\u001b[0m\u001b[1;32m     21\u001b[0m \u001b[0;34m\u001b[0m\u001b[0m\n\u001b[1;32m     22\u001b[0m \u001b[0;34m\u001b[0m\u001b[0m\n",
            "\u001b[0;32m/tmp/ipython-input-666362567.py\u001b[0m in \u001b[0;36mpearson_corr_coeff\u001b[0;34m(lst_x, lst_y)\u001b[0m\n\u001b[1;32m     10\u001b[0m   \u001b[0mproducts\u001b[0m \u001b[0;34m=\u001b[0m \u001b[0;34m[\u001b[0m\u001b[0mx\u001b[0m \u001b[0;34m*\u001b[0m \u001b[0my\u001b[0m \u001b[0;32mfor\u001b[0m \u001b[0mx\u001b[0m\u001b[0;34m,\u001b[0m \u001b[0my\u001b[0m \u001b[0;32min\u001b[0m \u001b[0mzip\u001b[0m\u001b[0;34m(\u001b[0m\u001b[0mxi_minus_xmean_list\u001b[0m\u001b[0;34m,\u001b[0m \u001b[0myi_minus_ymean_list\u001b[0m\u001b[0;34m)\u001b[0m\u001b[0;34m]\u001b[0m\u001b[0;34m\u001b[0m\u001b[0;34m\u001b[0m\u001b[0m\n\u001b[1;32m     11\u001b[0m \u001b[0;34m\u001b[0m\u001b[0m\n\u001b[0;32m---> 12\u001b[0;31m   \u001b[0mcovariance\u001b[0m \u001b[0;34m=\u001b[0m \u001b[0msum\u001b[0m\u001b[0;34m(\u001b[0m\u001b[0mproducts\u001b[0m\u001b[0;34m)\u001b[0m\u001b[0;34m/\u001b[0m\u001b[0mlen\u001b[0m\u001b[0;34m(\u001b[0m\u001b[0mx\u001b[0m\u001b[0;34m)\u001b[0m\u001b[0;34m\u001b[0m\u001b[0;34m\u001b[0m\u001b[0m\n\u001b[0m\u001b[1;32m     13\u001b[0m   \u001b[0mpearson_correlation_coefficient\u001b[0m \u001b[0;34m=\u001b[0m \u001b[0mcovariance\u001b[0m\u001b[0;34m/\u001b[0m\u001b[0;34m(\u001b[0m\u001b[0mstd_x\u001b[0m \u001b[0;34m*\u001b[0m \u001b[0mstd_y\u001b[0m\u001b[0;34m)\u001b[0m\u001b[0;34m\u001b[0m\u001b[0;34m\u001b[0m\u001b[0m\n\u001b[1;32m     14\u001b[0m \u001b[0;34m\u001b[0m\u001b[0m\n",
            "\u001b[0;31mTypeError\u001b[0m: 'float' object is not callable"
          ]
        }
      ]
    }
  ]
}