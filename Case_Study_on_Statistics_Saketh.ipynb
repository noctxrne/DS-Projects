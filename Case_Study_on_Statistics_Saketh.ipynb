{
  "nbformat": 4,
  "nbformat_minor": 0,
  "metadata": {
    "colab": {
      "provenance": [],
      "authorship_tag": "ABX9TyPiCMwSvyjExd0bUAyJSaGs",
      "include_colab_link": true
    },
    "kernelspec": {
      "name": "python3",
      "display_name": "Python 3"
    },
    "language_info": {
      "name": "python"
    }
  },
  "cells": [
    {
      "cell_type": "markdown",
      "metadata": {
        "id": "view-in-github",
        "colab_type": "text"
      },
      "source": [
        "<a href=\"https://colab.research.google.com/github/noctxrne/my_first_repository/blob/main/Case_Study_on_Statistics_Saketh.ipynb\" target=\"_parent\"><img src=\"https://colab.research.google.com/assets/colab-badge.svg\" alt=\"Open In Colab\"/></a>"
      ]
    },
    {
      "cell_type": "code",
      "execution_count": null,
      "metadata": {
        "id": "g_Tev8eHiKcy",
        "colab": {
          "base_uri": "https://localhost:8080/"
        },
        "outputId": "432b067a-b23e-4536-b061-0ba9fc5ebfff"
      },
      "outputs": [
        {
          "output_type": "stream",
          "name": "stdout",
          "text": [
            "Mean temperataure is 15.92°C\n",
            "Median is 15.5\n",
            "Mode is 15\n",
            "Range is 12\n",
            "Variance is 11.08\n"
          ]
        }
      ],
      "source": [
        "#1. Dataset: Monthly temperatures in a city (in °C): 12, 15, 14, 16, 18, 20, 22, 19,17, 15, 13, 10\n",
        "# Questions:\n",
        "# a) Calculate the mean temperature.\n",
        "# b) Calculate the median temperature.\n",
        "# c) Find the mode of the temperature data.\n",
        "# d) Range and Variance\n",
        "\n",
        "temperature=[12, 15, 14, 16, 18, 20, 22, 19,17, 15, 13, 10]\n",
        "n = len(temperature)\n",
        "\n",
        "#mean\n",
        "mean=sum(temperature)/n\n",
        "print(f\"Mean temperataure is {mean:.2f}°C\")\n",
        "\n",
        "#median\n",
        "temperature.sort()\n",
        "if n % 2 == 1:\n",
        "    median = temperature[n // 2]  # Odd nos.\n",
        "else:\n",
        "    median = (temperature[n // 2 - 1] + temperature[n // 2]) / 2  # Even nos.\n",
        "print(f\"Median is {median}\")\n",
        "\n",
        "#Mode\n",
        "count=0\n",
        "max_count=0\n",
        "mode={}\n",
        "temperature.sort()\n",
        "for i in temperature:\n",
        "  count=0\n",
        "  for j in temperature:\n",
        "    if i==j:\n",
        "      count+=1\n",
        "  mode[i]=count\n",
        "\n",
        "for i in temperature:\n",
        "  if(mode[i]>max_count):\n",
        "    max_count=mode[i]\n",
        "\n",
        "for key, value in mode.items():\n",
        "    if value == max_count:\n",
        "      print(f\"Mode is {key}\")\n",
        "\n",
        "#range\n",
        "max=0\n",
        "min=temperature[0]\n",
        "for i in temperature:\n",
        "  if i>max:\n",
        "    max=i\n",
        "for i in temperature:\n",
        "  if i<min:\n",
        "    min=i\n",
        "range=max-min\n",
        "print(f\"Range is {range}\")\n",
        "\n",
        "#variance\n",
        "numerator_variance=0\n",
        "for i in temperature:\n",
        "  numerator_variance+=((i-mean)**2)\n",
        "variance=numerator_variance/(n-1)\n",
        "print(f\"Variance is {variance:.2f}\")"
      ]
    },
    {
      "cell_type": "code",
      "source": [
        "# 2. Dataset: Heights of students (in cm): 150, 160, 165, 170, 155, 160, 162, 168\n",
        "# Questions:\n",
        "# a) Calculate the range of the heights.\n",
        "# b) Calculate the variance of the heights.\n",
        "# c) Standard Deviation\n",
        "\n",
        "heights=[150, 160, 165, 170, 155, 160, 162, 168]\n",
        "n = len(heights)\n",
        "\n",
        "mean=sum(heights)/n\n",
        "\n",
        "#Range of heights\n",
        "max=0\n",
        "min=heights[0]\n",
        "for i in heights:\n",
        "  if i>max:\n",
        "    max=i\n",
        "for i in heights:\n",
        "  if i<min:\n",
        "    min=i\n",
        "range=max-min\n",
        "print(f\"Range of heights is {range}\")\n",
        "\n",
        "#variance of the heights\n",
        "numerator_variance=0\n",
        "for i in heights:\n",
        "  numerator_variance+=((i-mean)**2)\n",
        "variance=numerator_variance/(n-1)\n",
        "print(f\"Variance of heights is {variance:.2f}\")\n",
        "\n",
        "#Standard Deviation\n",
        "std_deviation=variance**(.5)\n",
        "print(f\"Standard Deviation of heights is {std_deviation:.2f}\")\n",
        "\n"
      ],
      "metadata": {
        "colab": {
          "base_uri": "https://localhost:8080/"
        },
        "id": "_RiIxJzzwtd_",
        "outputId": "6c67366c-53f9-4ac6-8817-5764e5355df8"
      },
      "execution_count": null,
      "outputs": [
        {
          "output_type": "stream",
          "name": "stdout",
          "text": [
            "Range of heights is 20\n",
            "Variance of heights is 43.64\n",
            "Standard Deviation of heights is 6.61\n"
          ]
        }
      ]
    },
    {
      "cell_type": "code",
      "source": [
        "# 3. Dataset: Weekly expenses (in $): 200, 250, 300, 220, 270, 290, 310\n",
        "# Questions:\n",
        "#  a) Calculate the standard deviation of the weekly expenses.\n",
        "\n",
        "weeklyExpenses=[200, 250, 300, 220, 270, 290, 310]\n",
        "n = len(weeklyExpenses)\n",
        "\n",
        "mean=sum(weeklyExpenses)/n\n",
        "\n",
        "#standard deviation of the weekly expenses\n",
        "\n",
        "numerator_variance=0\n",
        "for i in weeklyExpenses:\n",
        "  numerator_variance+=((i-mean)**2)\n",
        "variance=numerator_variance/(n-1)\n",
        "\n",
        "std_deviation=variance**(.5)\n",
        "print(f\"Standard Deviation of weekly expenses is {std_deviation:.2f}\")\n"
      ],
      "metadata": {
        "colab": {
          "base_uri": "https://localhost:8080/"
        },
        "id": "C-63c3kY2Dgj",
        "outputId": "0485c4de-c865-4475-974e-dff8ac1fd09e"
      },
      "execution_count": null,
      "outputs": [
        {
          "output_type": "stream",
          "name": "stdout",
          "text": [
            "Standard Deviation of weekly expenses is 41.52\n"
          ]
        }
      ]
    },
    {
      "cell_type": "code",
      "source": [
        "# 4. Dataset: Advertising Spending (in $1000s): 10, 20, 15, 25, 30; Sales (in\n",
        "# $1000s): 100, 150, 120, 180, 200\n",
        "# Questions:\n",
        "# a) Calculate the covariance between advertising spending and sales.\n",
        "# b) Correlation\n",
        "\n",
        "adSpend=[10, 20, 15, 25, 30]\n",
        "n1 = len(adSpend)\n",
        "sales=[100, 150, 120, 180, 200]\n",
        "n2= len(sales)\n",
        "mean1=sum(adSpend)/n1\n",
        "mean2=sum(sales)/n2\n",
        "n=n1\n",
        "numerator_covariance=0\n",
        "for i,j in zip(adSpend,sales):\n",
        "  numerator_covariance+=(i-mean1)*(j-mean2)\n",
        "covariance=numerator_covariance/(n-1)\n",
        "print(f\"Covariance is {covariance}\")\n",
        "\n",
        "#standard deviation of the adSpend\n",
        "numerator_variance1=0\n",
        "for i in adSpend:\n",
        "  numerator_variance1+=((i-mean1)**2)\n",
        "variance1=numerator_variance1/(n1-1)\n",
        "std_deviation1=variance1**(.5)\n",
        "\n",
        "#standard deviation of the sales\n",
        "numerator_variance2=0\n",
        "for i in sales:\n",
        "  numerator_variance2+=((i-mean2)**2)\n",
        "variance2=numerator_variance2/(n2-1)\n",
        "std_deviation2=variance2**(.5)\n",
        "\n",
        "correlation=covariance/(std_deviation1*std_deviation2)\n",
        "print(f\"Correlation is {correlation}\")\n",
        "\n"
      ],
      "metadata": {
        "colab": {
          "base_uri": "https://localhost:8080/"
        },
        "id": "25WLRHFs3OmQ",
        "outputId": "410e96d8-8da6-4904-feba-0da99928437a"
      },
      "execution_count": null,
      "outputs": [
        {
          "output_type": "stream",
          "name": "stdout",
          "text": [
            "Covariance is 325.0\n",
            "Correlation is 0.9970544855015816\n"
          ]
        }
      ]
    },
    {
      "cell_type": "code",
      "source": [
        "# 5. Dataset: Study Hours: 2, 4, 6, 8, 10; Exam Scores: 55, 60, 65, 70, 75\n",
        "# Questions:\n",
        "# a) Calculate the correlation coefficient between study hours and exam scores.\n",
        "# b) Interpret the result.\n",
        "# c) Quartiles and IQR\n",
        "\n",
        "studyHours= [2, 4, 6, 8, 10]\n",
        "examScores= [55, 60, 65, 70, 75]\n",
        "n=5\n",
        "mean1=sum(studyHours)/n\n",
        "mean2=sum(examScores)/n\n",
        "\n",
        "numerator_covariance=0\n",
        "for i,j in zip(studyHours,examScores):\n",
        "  numerator_covariance+=(i-mean1)*(j-mean2)\n",
        "covariance=numerator_covariance/(n-1)\n",
        "\n",
        "#standard deviation of the studyHours\n",
        "numerator_variance1=0\n",
        "for i in studyHours:\n",
        "  numerator_variance1+=((i-mean1)**2)\n",
        "variance1=numerator_variance1/(n-1)\n",
        "std_deviation1=variance1**(.5)\n",
        "\n",
        "#standard deviation of the examScores\n",
        "numerator_variance2=0\n",
        "for i in examScores:\n",
        "  numerator_variance2+=((i-mean2)**2)\n",
        "variance2=numerator_variance2/(n-1)\n",
        "std_deviation2=variance2**(.5)\n",
        "\n",
        "#Correlation\n",
        "correlation=covariance/(std_deviation1*std_deviation2)\n",
        "print(f\"Correlation is {correlation}\")\n",
        "\n",
        "#Quartile and IQR of studyHours\n",
        "studyHours.sort()\n",
        "q1=studyHours[int(.25*n)]\n",
        "q2=studyHours[int(.5*n)]\n",
        "q3=studyHours[int(.75*n)]\n",
        "iqr=q3-q1\n",
        "print(f\"Study Hours: \")\n",
        "print(f\"First Quartile is {q1}\")\n",
        "print(f\"Second Quartile is {q2}\")\n",
        "print(f\"Third Quartile is {q3}\")\n",
        "print(f\"IQR is {iqr}\")\n",
        "\n",
        "#Quartile and IQR of examScores\n",
        "examScores.sort()\n",
        "q1=examScores[int(.25*n)]\n",
        "q2=examScores[int(.5*n)]\n",
        "q3=examScores[int(.75*n)]\n",
        "iqr=q3-q1\n",
        "print(f\"Exam Scores: \")\n",
        "print(f\"First Quartile is {q1}\")\n",
        "print(f\"Second Quartile is {q2}\")\n",
        "print(f\"Third Quartile is {q3}\")\n",
        "print(f\"IQR is {iqr}\")"
      ],
      "metadata": {
        "colab": {
          "base_uri": "https://localhost:8080/"
        },
        "id": "bv0G2TjhIXYq",
        "outputId": "ecdeef3c-a9a0-4b91-f970-54c6e67e2d36"
      },
      "execution_count": 4,
      "outputs": [
        {
          "output_type": "stream",
          "name": "stdout",
          "text": [
            "Correlation is 1.0\n",
            "Study Hours: \n",
            "First Quartile is 4\n",
            "Second Quartile is 6\n",
            "Third Quartile is 8\n",
            "IQR is 4\n",
            "Exam Scores: \n",
            "First Quartile is 60\n",
            "Second Quartile is 65\n",
            "Third Quartile is 70\n",
            "IQR is 10\n"
          ]
        }
      ]
    },
    {
      "cell_type": "code",
      "source": [
        "# 6. Dataset: Monthly savings (in $): 200, 300, 400, 500, 600, 700, 800, 900, 1000,1100\n",
        "#Questions:\n",
        "# a) Calculate the first quartile (Q1) and third quartile (Q3).\n",
        "# b) Calculate the interquartile range (IQR).\n",
        "# c) Detecting Outliers\n",
        "\n",
        "monthlySavings=[200, 300, 400, 500, 600, 700, 800, 900, 1000,1100]\n",
        "n=len(monthlySavings)\n",
        "\n",
        "#Q1 and Q3\n",
        "monthlySavings.sort()\n",
        "q1=monthlySavings[int(.25*n)]\n",
        "print(f\"First Quartile is {q1}\")\n",
        "q3=monthlySavings[int(.75*n)]\n",
        "print(f\"Third Quartile is {q3}\")\n",
        "\n",
        "#IQR\n",
        "iqr=q3-q1\n",
        "print(f\"IQR is {iqr}\")\n",
        "\n",
        "lower_limit=q1-1.5*iqr\n",
        "upper_limit=q3-1.5*iqr\n",
        "\n",
        "outliers=[]\n",
        "flag=0\n",
        "for i in monthlySavings:\n",
        "  if i>=lower_limit and i<=upper_limit:\n",
        "    print(\"None\")\n",
        "  else:\n",
        "    outliers.append(i)\n",
        "    flag=1\n",
        "if flag==1:\n",
        "  print(f\"Outliers: {outliers}\")"
      ],
      "metadata": {
        "colab": {
          "base_uri": "https://localhost:8080/"
        },
        "id": "5GdxdSnJQcJ_",
        "outputId": "5e885efd-a3f4-416e-b940-ddb64d886748"
      },
      "execution_count": null,
      "outputs": [
        {
          "output_type": "stream",
          "name": "stdout",
          "text": [
            "First Quartile is 400\n",
            "Third Quartile is 900\n",
            "IQR is 500\n",
            "Outliers: [200, 300, 400, 500, 600, 700, 800, 900, 1000, 1100]\n"
          ]
        }
      ]
    },
    {
      "cell_type": "code",
      "source": [
        "# 7. Dataset: Ages of employees: 22, 25, 28, 30, 35, 40, 45, 50, 55, 100\n",
        "# Questions: a) Identify any outliers using the IQR method\n",
        "\n",
        "ages=[22, 25, 28, 30, 35, 40, 45, 50, 55, 100]\n",
        "n=len(ages)\n",
        "\n",
        "#Q1 and Q3\n",
        "ages.sort()\n",
        "q1=ages[int(.25*n)]\n",
        "print(f\"First Quartile is {q1}\")\n",
        "q3=ages[int(.75*n)]\n",
        "print(f\"Third Quartile is {q3}\")\n",
        "\n",
        "#IQR\n",
        "iqr=q3-q1\n",
        "print(f\"IQR is {iqr}\")\n",
        "\n",
        "lower_limit=q1-1.5*iqr\n",
        "upper_limit=q3-1.5*iqr\n",
        "\n",
        "outliers=[]\n",
        "flag=0\n",
        "for i in ages:\n",
        "  if i>=lower_limit and i<=upper_limit:\n",
        "    print(\"None\")\n",
        "  else:\n",
        "    outliers.append(i)\n",
        "    flag=1\n",
        "if flag==1:\n",
        "  print(f\"Outliers: {outliers}\")"
      ],
      "metadata": {
        "colab": {
          "base_uri": "https://localhost:8080/"
        },
        "id": "EmldxDX9VCIM",
        "outputId": "3e74e7ee-d928-43f3-935e-391c037317ce"
      },
      "execution_count": null,
      "outputs": [
        {
          "output_type": "stream",
          "name": "stdout",
          "text": [
            "First Quartile is 28\n",
            "Third Quartile is 50\n",
            "IQR is 22\n",
            "Outliers: [22, 25, 28, 30, 35, 40, 45, 50, 55, 100]\n"
          ]
        }
      ]
    },
    {
      "cell_type": "code",
      "source": [
        "# 8. Dataset: Observed frequencies of customer preferences for three products:\n",
        "# Product A: 50, 55, 60\n",
        "# Product B: 30, 25, 35\n",
        "# Product C: 20, 20, 25\n",
        "# Questions:\n",
        "# a) Perform a chi-square test to determine if there is a significant difference in customer preferences among the three products.\n",
        "# b) Hypothesis Testing\n",
        "\n",
        "from scipy import stats\n",
        "\n",
        "prod_a = [50, 55, 60]\n",
        "prod_b = [30, 25, 35]\n",
        "prod_c = [20, 20, 25]\n",
        "\n",
        "chi2_stat, p_value, dof, expected = stats.chi2_contingency([prod_a, prod_b, prod_c])\n",
        "print(f\"Chi-square statistic: {chi2_stat:.3f}\")\n",
        "print(f\"P-value: {p_value:.3f}\")\n",
        "print(f\"Degrees of freedom: {dof}\")\n",
        "print(\"Expected frequencies table:\")\n",
        "if p_value < 0.05:\n",
        "  print('There is significant statistical evidence, Null hypothesis is rejected')\n",
        "else:\n",
        "  print('There is no significant statistical evidence, We fail to reject null hypothesis')\n",
        ""
      ],
      "metadata": {
        "id": "kn2hLv0XVyuy",
        "colab": {
          "base_uri": "https://localhost:8080/"
        },
        "outputId": "1ab3956a-957e-41b0-fcbd-ea5dbe067b40"
      },
      "execution_count": 8,
      "outputs": [
        {
          "output_type": "stream",
          "name": "stdout",
          "text": [
            "Chi-square statistic: 0.877\n",
            "P-value: 0.928\n",
            "Degrees of freedom: 4\n",
            "Expected frequencies table:\n",
            "There is no significant statistical evidence, We fail to reject null hypothesis\n"
          ]
        }
      ]
    },
    {
      "cell_type": "code",
      "source": [
        "# 9. Dataset: Sample weights (in kg) of a new diet program: 70, 68, 72, 71, 69, 73, 72, 74, 70, 71\n",
        "#Questions:\n",
        "# a) Test the hypothesis that the mean weight after the diet program is equal to 70 kg at a 5% significance level.\n",
        "# b) Z-Scores\n",
        "\n",
        "weights=[70, 68, 72, 71, 69, 73, 72, 74, 70, 71]\n",
        "n=len(weights)\n",
        "weights.sort()\n",
        "mean=sum(weights)/n\n",
        "\n",
        "numerator_variance=0\n",
        "for i in weights:\n",
        "  numerator_variance+=((i-mean)**2)\n",
        "variance=numerator_variance/(n-1)\n",
        "std_deviation=variance**(.5)\n",
        "\n",
        "#Z Score\n",
        "print(\"Z score :\")\n",
        "for i in weights:\n",
        "  z_scores_numerator = (i - mean)\n",
        "  z_scores=z_scores_numerator/std_deviation\n",
        "  print(f\"z score of {i} is {z_scores}\")\n"
      ],
      "metadata": {
        "colab": {
          "base_uri": "https://localhost:8080/"
        },
        "id": "ZcMOMGGmWeDR",
        "outputId": "706a80df-6e10-4889-9ab9-5c752ce98f4f"
      },
      "execution_count": 6,
      "outputs": [
        {
          "output_type": "stream",
          "name": "stdout",
          "text": [
            "Z score :\n",
            "z score of 68 is -1.6431676725154982\n",
            "z score of 69 is -1.0954451150103321\n",
            "z score of 70 is -0.5477225575051661\n",
            "z score of 70 is -0.5477225575051661\n",
            "z score of 71 is 0.0\n",
            "z score of 71 is 0.0\n",
            "z score of 72 is 0.5477225575051661\n",
            "z score of 72 is 0.5477225575051661\n",
            "z score of 73 is 1.0954451150103321\n",
            "z score of 74 is 1.6431676725154982\n"
          ]
        }
      ]
    },
    {
      "cell_type": "code",
      "source": [
        "# 10. Dataset: Annual salaries of employees (in $1000s): 40, 42, 45, 47, 50, 52, 55, 57, 60, 62\n",
        "# Questions:\n",
        "# a) Calculate the z-scores for each salary.\n",
        "# b) Interpret the z-scores.\n",
        "# c) Normal Distribution\n",
        "\n",
        "salaries=[40, 42, 45, 47, 50, 52, 55, 57, 60, 62 ]\n",
        "n=len(salaries)\n",
        "salaries.sort()\n",
        "mean=sum(salaries)/n\n",
        "\n",
        "numerator_variance=0\n",
        "for i in salaries:\n",
        "  numerator_variance+=((i-mean)**2)\n",
        "variance=numerator_variance/(n-1)\n",
        "std_deviation=variance**(.5)\n",
        "\n",
        "#Z Score\n",
        "print(\"Z score :\")\n",
        "for i in salaries:\n",
        "  z_scores_numerator = (i - mean)\n",
        "  z_scores=z_scores_numerator/std_deviation\n",
        "  print(f\"z score of {i} is {z_scores}\")"
      ],
      "metadata": {
        "colab": {
          "base_uri": "https://localhost:8080/"
        },
        "id": "vcrw_aOzZXe6",
        "outputId": "4e235277-05e2-4fba-cc21-951b076572bd"
      },
      "execution_count": 9,
      "outputs": [
        {
          "output_type": "stream",
          "name": "stdout",
          "text": [
            "Z score :\n",
            "z score of 40 is -1.4612645611411572\n",
            "z score of 42 is -1.1955800954791287\n",
            "z score of 45 is -0.7970533969860858\n",
            "z score of 47 is -0.5313689313240572\n",
            "z score of 50 is -0.1328422328310143\n",
            "z score of 52 is 0.1328422328310143\n",
            "z score of 55 is 0.5313689313240572\n",
            "z score of 57 is 0.7970533969860858\n",
            "z score of 60 is 1.1955800954791287\n",
            "z score of 62 is 1.4612645611411572\n"
          ]
        }
      ]
    }
  ]
}