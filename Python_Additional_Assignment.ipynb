{
  "nbformat": 4,
  "nbformat_minor": 0,
  "metadata": {
    "colab": {
      "provenance": [],
      "authorship_tag": "ABX9TyODMHhvw2SialFCe8aZ9Tgj",
      "include_colab_link": true
    },
    "kernelspec": {
      "name": "python3",
      "display_name": "Python 3"
    },
    "language_info": {
      "name": "python"
    }
  },
  "cells": [
    {
      "cell_type": "markdown",
      "metadata": {
        "id": "view-in-github",
        "colab_type": "text"
      },
      "source": [
        "<a href=\"https://colab.research.google.com/github/noctxrne/DSA-ICT/blob/main/Python_Additional_Assignment.ipynb\" target=\"_parent\"><img src=\"https://colab.research.google.com/assets/colab-badge.svg\" alt=\"Open In Colab\"/></a>"
      ]
    },
    {
      "cell_type": "code",
      "execution_count": 1,
      "metadata": {
        "colab": {
          "base_uri": "https://localhost:8080/"
        },
        "id": "_9TEyUbBgBvU",
        "outputId": "05b75d0e-d239-4706-bf0a-ec534e6c2d81"
      },
      "outputs": [
        {
          "output_type": "stream",
          "name": "stdout",
          "text": [
            "Enter name of grocery item: batman\n",
            "Enter price of the item: 4\n",
            "Enter name of grocery item: spiderman \n",
            "Enter price of the item: 9\n",
            "Enter name of grocery item: kangaroo\n",
            "Enter price of the item: 0\n",
            "Enter name of grocery item: done\n",
            "Items:\n",
            "{'batman': 4.0, 'spiderman ': 9.0, 'kangaroo': 0.0}\n",
            "Total Bill: 13.0\n"
          ]
        }
      ],
      "source": [
        "#Grocery store Billing\n",
        "\n",
        "totalBill=0.0\n",
        "itemList={}\n",
        "while(True):\n",
        "  name=input(\"Enter name of grocery item: \")\n",
        "  if(name==\"done\"):\n",
        "    break\n",
        "  price=float(input(\"Enter price of the item: \"))\n",
        "  itemList[name]=price\n",
        "  totalBill+=price\n",
        "print(\"Items:\")\n",
        "print(itemList)\n",
        "print(f\"Total Bill: {totalBill}\")\n",
        "\n",
        "\n"
      ]
    },
    {
      "cell_type": "code",
      "source": [
        "# Exam Result Calculator\n",
        "\n",
        "studentName=input(\"Enter name of the student: \")\n",
        "markList=[]\n",
        "sum1=0\n",
        "i=0\n",
        "while(i<5):s\n",
        "  marks=float(input(\"Enter marks of subject(out of 100): \"))\n",
        "  markList.append(marks)\n",
        "  sum1+=marks\n",
        "  i+=1\n",
        "percent=(sum/5)\n",
        "if(percent>=90):\n",
        "  grade=\"A\"\n",
        "elif(percent>=75):\n",
        "  grade=\"B\"\n",
        "elif(percent>=50):\n",
        "  grade=\"C\"\n",
        "else:\n",
        "  grade=\"Fail\"\n",
        "print(\"Student and Marklist:\")\n",
        "print(markList)\n",
        "print(f\"Total Percentage: {percent}%\")\n",
        "print(f\"Grade: {grade}\")"
      ],
      "metadata": {
        "colab": {
          "base_uri": "https://localhost:8080/"
        },
        "id": "PRj7jfuzr-jj",
        "outputId": "0bd3909a-d19c-4f0b-b3e1-4faf4cece0a2"
      },
      "execution_count": 8,
      "outputs": [
        {
          "output_type": "stream",
          "name": "stdout",
          "text": [
            "Enter name of the student: s1\n",
            "Enter marks of subject(out of 100): 34\n",
            "Enter marks of subject(out of 100): 45\n",
            "Enter marks of subject(out of 100): 57\n",
            "Enter marks of subject(out of 100): 89\n",
            "Enter marks of subject(out of 100): 89\n",
            "Student and Marklist:\n",
            "[34.0, 45.0, 57.0, 89.0, 89.0]\n",
            "Total Percentage: 77.0%\n",
            "Grade: B\n"
          ]
        }
      ]
    },
    {
      "cell_type": "code",
      "source": [
        "#ATM Simulation\n",
        "\n",
        "balance=1000.0\n",
        "while True:\n",
        "  option=input(\"Enter your option[Deposit(d/D), Withdraw(w/W), Check balance(c/C), Exit(e/E)]:\")\n",
        "  if option=='d' or option==\"D\" :\n",
        "    depositAmount=float(input(\"Enter deposit amount: \"))\n",
        "    balance+=depositAmount\n",
        "  elif option=='w' or option==\"W\" :\n",
        "    withdrawAmount=float(input(\"Enter withdraw amount: \"))\n",
        "    if(balance<withdrawAmount):\n",
        "      print(\"Insufficient Funds\")\n",
        "    else:\n",
        "      balance-=withdrawAmount\n",
        "  elif option=='c' or option==\"C\" :\n",
        "    print(f\"Your balance: {balance}\")\n",
        "  elif option=='e' or option==\"E\" :\n",
        "    break\n",
        "  else:\n",
        "    print(\"Invalid option!\")\n",
        "\n"
      ],
      "metadata": {
        "colab": {
          "base_uri": "https://localhost:8080/"
        },
        "id": "mmX6EQ4Yz-SJ",
        "outputId": "aff6f060-313d-4c7d-e622-8b01e5dc8b23"
      },
      "execution_count": 5,
      "outputs": [
        {
          "name": "stdout",
          "output_type": "stream",
          "text": [
            "Enter your option[Deposit(d/D), Withdraw(w/W), Check balance(c/C), Exit(e/E)]:d\n",
            "Enter deposit amount: 45\n",
            "Enter your option[Deposit(d/D), Withdraw(w/W), Check balance(c/C), Exit(e/E)]:w\n",
            "Enter withdraw amount: 5\n",
            "Enter your option[Deposit(d/D), Withdraw(w/W), Check balance(c/C), Exit(e/E)]:c\n",
            "Your balance: 1040.0\n",
            "Enter your option[Deposit(d/D), Withdraw(w/W), Check balance(c/C), Exit(e/E)]:e\n"
          ]
        }
      ]
    },
    {
      "cell_type": "code",
      "source": [
        "89# Cricket Score Tracker\n",
        "\n",
        "\n",
        "player_scores = {}\n",
        "\n",
        "for i in range(5):\n",
        "    name = input(f\"Enter player name: \")\n",
        "    score = int(input(f\"Enter {name}'s score: \"))\n",
        "    player_scores[name] = score\n",
        "\n",
        "top_player = max(player_scores, key=player_scores.get)\n",
        "print(f\"\\nTop scorer is {top_player} with {player_scores[top_player]} points.\")\n",
        "\n",
        "player_to_update = input(\"\\nEnter the name of player to update: \")\n",
        "if player_to_update in player_scores:\n",
        "    new_score = int(input(f\"Enter new score for {player_to_update}: \"))\n",
        "    player_scores[player_to_update] = new_score\n",
        "    print(f\"Updated {player_to_update}'s score to {new_score}.\")\n",
        "else:\n",
        "    print(\"Player not found!\")\n",
        "\n",
        "print(\"\\nUpdated scores:\", player_scores)\n"
      ],
      "metadata": {
        "colab": {
          "base_uri": "https://localhost:8080/"
        },
        "id": "bzGB3Nbs5XWx",
        "outputId": "57d27f63-59ed-40dc-a89c-d5d5893fb638"
      },
      "execution_count": 6,
      "outputs": [
        {
          "output_type": "stream",
          "name": "stdout",
          "text": [
            "Enter player name: p1\n",
            "Enter p1's score: 34\n",
            "Enter player name: p2\n",
            "Enter p2's score: 56\n",
            "Enter player name: p3\n",
            "Enter p3's score: 78\n",
            "Enter player name: p4\n",
            "Enter p4's score: 12\n",
            "Enter player name: p5\n",
            "Enter p5's score: 101\n",
            "\n",
            "Top scorer is p5 with 101 points.\n",
            "\n",
            "Enter the name of player to update: p3\n",
            "Enter new score for p3: 117\n",
            "Updated p3's score to 117.\n",
            "\n",
            "Updated scores: {'p1': 34, 'p2': 56, 'p3': 117, 'p4': 12, 'p5': 101}\n"
          ]
        }
      ]
    },
    {
      "cell_type": "code",
      "source": [
        "# Menu stored in a dictionary\n",
        "menu = {\n",
        "    \"Pizza\": 250,\n",
        "    \"Burger\": 120,\n",
        "    \"Pasta\": 150,\n",
        "    \"Sandwich\": 100,\n",
        "    \"Fries\": 80\n",
        "}\n",
        "\n",
        "print(\"MENU:\")\n",
        "for item, price in menu.items():\n",
        "    print(f\"{item}: ₹{price}\")\n",
        "\n",
        "orders = []\n",
        "bill=0.0\n",
        "n = int(input(\"How many items do you want to order? \"))\n",
        "\n",
        "for i in range(n):\n",
        "    item = input(f\"Enter item :\")\n",
        "    if item in menu:\n",
        "        orders.append(item)\n",
        "    else:\n",
        "        print(f\"{item} is not available in the menu.\")\n",
        "\n",
        "for item in orders:\n",
        "    bill += menu[item]\n",
        "\n",
        "if \"Pizza\" in orders:\n",
        "    bill -= 50\n",
        "    print(\"Pizza ordered :₹50 discount applied!\")\n",
        "\n",
        "print(\"Your Orders:\", orders)\n",
        "print(f\"Final Bill Amount: ₹{bill}\")\n"
      ],
      "metadata": {
        "colab": {
          "base_uri": "https://localhost:8080/"
        },
        "id": "wC_qtDFN9CRc",
        "outputId": "503e782b-de05-442c-a883-554b6db11af0"
      },
      "execution_count": 11,
      "outputs": [
        {
          "output_type": "stream",
          "name": "stdout",
          "text": [
            "MENU:\n",
            "Pizza: ₹250\n",
            "Burger: ₹120\n",
            "Pasta: ₹150\n",
            "Sandwich: ₹100\n",
            "Fries: ₹80\n",
            "How many items do you want to order? 2\n",
            "Enter item :Pizza\n",
            "Enter item :Pasta\n",
            "Pizza ordered :₹50 discount applied!\n",
            "Your Orders: ['Pizza', 'Pasta']\n",
            "Final Bill Amount: ₹350.0\n"
          ]
        }
      ]
    },
    {
      "cell_type": "code",
      "source": [
        "#Temperature Conversion Tool\n",
        "\n",
        "celsius = float(input(\"Enter temperature in Celsius: \"))\n",
        "fahrenheit = (celsius * 9/5) + 32\n",
        "print(f\"{celsius}°C is equal to {fahrenheit}°F\")"
      ],
      "metadata": {
        "colab": {
          "base_uri": "https://localhost:8080/"
        },
        "id": "oc_Y2LD8Dyph",
        "outputId": "d37bee91-0703-4b54-ca27-455924707c68"
      },
      "execution_count": 12,
      "outputs": [
        {
          "output_type": "stream",
          "name": "stdout",
          "text": [
            "Enter temperature in Celsius: 45\n",
            "45.0°C is equal to 113.0°F\n"
          ]
        }
      ]
    },
    {
      "cell_type": "code",
      "source": [
        "#Online Shopping Cart\n",
        "\n",
        "cart = []\n",
        "\n",
        "print(\"Online Shopping Cart\")\n",
        "\n",
        "while True:\n",
        "    print(\"Choose an option:\")\n",
        "    print(\"1. Add item\")\n",
        "    print(\"2. Remove item\")\n",
        "    print(\"3. View cart\")\n",
        "    print(\"4. Checkout (Exit)\")\n",
        "\n",
        "    choice = input(\"Enter your choice (1-4): \")\n",
        "\n",
        "    if choice == \"1\":\n",
        "        item = input(\"Enter item to add: \")\n",
        "        cart.append(item)\n",
        "        print(f\"{item} added to cart.\")\n",
        "\n",
        "    elif choice == \"2\":\n",
        "        item = input(\"Enter item to remove: \")\n",
        "        if item in cart:\n",
        "            cart.remove(item)\n",
        "            print(f\"{item} removed from cart.\")\n",
        "        else:\n",
        "            print(f\"{item} not found in cart.\")\n",
        "\n",
        "    elif choice == \"3\":\n",
        "        if cart:\n",
        "            print(\"Your Cart:\", cart)\n",
        "        else:\n",
        "            print(\"Your cart is empty.\")\n",
        "\n",
        "    elif choice == \"4\":\n",
        "        print(\"Checking out... Final Cart:\", cart)\n",
        "        break\n",
        "\n",
        "    else:\n",
        "        print(\"Invalid choice. Please try again.\")"
      ],
      "metadata": {
        "colab": {
          "base_uri": "https://localhost:8080/"
        },
        "id": "3-dsNQhBEIoi",
        "outputId": "5e8540df-55e8-4d13-db11-45842ca030e7"
      },
      "execution_count": 13,
      "outputs": [
        {
          "output_type": "stream",
          "name": "stdout",
          "text": [
            "Online Shopping Cart\n",
            "Choose an option:\n",
            "1. Add item\n",
            "2. Remove item\n",
            "3. View cart\n",
            "4. Checkout (Exit)\n",
            "Enter your choice (1-4): 1\n",
            "Enter item to add: brush\n",
            "brush added to cart.\n",
            "Choose an option:\n",
            "1. Add item\n",
            "2. Remove item\n",
            "3. View cart\n",
            "4. Checkout (Exit)\n",
            "Enter your choice (1-4): soap\n",
            "Invalid choice. Please try again.\n",
            "Choose an option:\n",
            "1. Add item\n",
            "2. Remove item\n",
            "3. View cart\n",
            "4. Checkout (Exit)\n",
            "Enter your choice (1-4): 2\n",
            "Enter item to remove: ki\n",
            "ki not found in cart.\n",
            "Choose an option:\n",
            "1. Add item\n",
            "2. Remove item\n",
            "3. View cart\n",
            "4. Checkout (Exit)\n",
            "Enter your choice (1-4): 1\n",
            "Enter item to add: key\n",
            "key added to cart.\n",
            "Choose an option:\n",
            "1. Add item\n",
            "2. Remove item\n",
            "3. View cart\n",
            "4. Checkout (Exit)\n",
            "Enter your choice (1-4): 1\n",
            "Enter item to add: soap\n",
            "soap added to cart.\n",
            "Choose an option:\n",
            "1. Add item\n",
            "2. Remove item\n",
            "3. View cart\n",
            "4. Checkout (Exit)\n",
            "Enter your choice (1-4): 2\n",
            "Enter item to remove: brush\n",
            "brush removed from cart.\n",
            "Choose an option:\n",
            "1. Add item\n",
            "2. Remove item\n",
            "3. View cart\n",
            "4. Checkout (Exit)\n",
            "Enter your choice (1-4): 3\n",
            "Your Cart: ['key', 'soap']\n",
            "Choose an option:\n",
            "1. Add item\n",
            "2. Remove item\n",
            "3. View cart\n",
            "4. Checkout (Exit)\n",
            "Enter your choice (1-4): 4\n",
            "Checking out... Final Cart: ['key', 'soap']\n"
          ]
        }
      ]
    },
    {
      "cell_type": "code",
      "source": [
        "students = [\"Rahul\", \"Amit\", \"Sneha\", \"Vikram\", \"Neha\"]\n",
        "print(students)\n",
        "\n",
        "attendance = {}\n",
        "\n",
        "for student in students:\n",
        "    status = input(f\"Mark attendance for {student} (P/A): \")\n",
        "    if status not in [\"P\", \"A\"]:\n",
        "        print(\"Invalid input, marking Absent by default.\")\n",
        "        status = \"A\"\n",
        "    attendance[student] = status\n",
        "\n",
        "present_count=0\n",
        "absent_count=0\n",
        "\n",
        "for s in attendance.values():\n",
        "    if s == \"P\":\n",
        "        present_count += 1\n",
        "    elif s == \"A\":\n",
        "        absent_count += 1\n",
        "\n",
        "print(\"\\nAttendance Report:\")\n",
        "print(\"Present Students:\", present_count)\n",
        "print(\"Absent Students:\", absent_count)\n"
      ],
      "metadata": {
        "colab": {
          "base_uri": "https://localhost:8080/"
        },
        "id": "7GMvFHNwGECU",
        "outputId": "e6b61df9-8dec-4e7e-b199-9049f58680b7"
      },
      "execution_count": 3,
      "outputs": [
        {
          "output_type": "stream",
          "name": "stdout",
          "text": [
            "['Rahul', 'Amit', 'Sneha', 'Vikram', 'Neha']\n",
            "Mark attendance for Rahul (P/A): P\n",
            "Mark attendance for Amit (P/A): P\n",
            "Mark attendance for Sneha (P/A): A\n",
            "Mark attendance for Vikram (P/A): P\n",
            "Mark attendance for Neha (P/A): A\n",
            "\n",
            "Attendance Report:\n",
            "Present Students: 3\n",
            "Absent Students: 2\n"
          ]
        }
      ]
    },
    {
      "cell_type": "code",
      "source": [
        "# Movie Ticket Booking Program\n",
        "\n",
        "total_seats = 50\n",
        "ticket_price = 120\n",
        "\n",
        "while total_seats > 0:\n",
        "    print(f\"Available seats: {total_seats}\")\n",
        "\n",
        "    tickets = int(input(\"How many tickets do you want to book? (Enter 0 to exit): \"))\n",
        "\n",
        "    if tickets == 0:\n",
        "        print(\"Thank you for visiting. Goodbye!\")\n",
        "        break\n",
        "\n",
        "    if tickets < 0:\n",
        "        print(\"Invalid input! Please enter a positive number.\")\n",
        "        continue\n",
        "\n",
        "    if tickets > total_seats:\n",
        "        print(f\"Sorry! Only {total_seats} seats are left.\")\n",
        "    else:\n",
        "        total_cost = tickets * ticket_price\n",
        "        total_seats -= tickets\n",
        "        print(f\"Booking confirmed for {tickets} ticket(s). Total cost: ₹{total_cost}\")\n",
        "        print(f\"Remaining seats: {total_seats}\")\n",
        "\n",
        "\n",
        "if total_seats == 0:\n",
        "    print(\"House full! No seats left.\")\n"
      ],
      "metadata": {
        "colab": {
          "base_uri": "https://localhost:8080/"
        },
        "id": "HuDxldtrK1G-",
        "outputId": "1ca71eb0-ff95-49c9-c329-6d662dffe033"
      },
      "execution_count": 4,
      "outputs": [
        {
          "output_type": "stream",
          "name": "stdout",
          "text": [
            "Available seats: 50\n",
            "How many tickets do you want to book? (Enter 0 to exit): 6\n",
            "Booking confirmed for 6 ticket(s). Total cost: ₹720\n",
            "Remaining seats: 44\n",
            "Available seats: 44\n",
            "How many tickets do you want to book? (Enter 0 to exit): 0\n",
            "Thank you for visiting. Goodbye!\n"
          ]
        }
      ]
    },
    {
      "cell_type": "code",
      "source": [
        "# Bank Loan Eligibility Checker\n",
        "\n",
        "print(\"Welcome to the Bank Loan Eligibility Checker\")\n",
        "\n",
        "salary = int(input(\"Enter your monthly salary: \"))\n",
        "credit_score = int(input(\"Enter your credit score: \"))\n",
        "age = int(input(\"Enter your age: \"))\n",
        "\n",
        "if salary >= 25000 and credit_score >= 650 and 21 <= age <= 60:\n",
        "    print(\"Congratulations! You are eligible for the loan.\")\n",
        "else:\n",
        "    print(\"Sorry, you are not eligible for the loan.\")"
      ],
      "metadata": {
        "colab": {
          "base_uri": "https://localhost:8080/"
        },
        "id": "g96w5Rz7Mu-A",
        "outputId": "d18e0e8c-673f-473c-ae17-b035f240c14b"
      },
      "execution_count": 5,
      "outputs": [
        {
          "output_type": "stream",
          "name": "stdout",
          "text": [
            "Welcome to the Bank Loan Eligibility Checker\n",
            "Enter your monthly salary: 45000\n",
            "Enter your credit score: 700\n",
            "Enter your age: 56\n",
            "Congratulations! You are eligible for the loan.\n"
          ]
        }
      ]
    }
  ]
}