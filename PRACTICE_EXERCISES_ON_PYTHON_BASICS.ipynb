{
  "cells": [
    {
      "cell_type": "markdown",
      "metadata": {
        "id": "view-in-github",
        "colab_type": "text"
      },
      "source": [
        "<a href=\"https://colab.research.google.com/github/noctxrne/my_first_repository/blob/main/PRACTICE_EXERCISES_ON_PYTHON_BASICS.ipynb\" target=\"_parent\"><img src=\"https://colab.research.google.com/assets/colab-badge.svg\" alt=\"Open In Colab\"/></a>"
      ]
    },
    {
      "cell_type": "markdown",
      "metadata": {
        "id": "EXIVvN0xO4u_"
      },
      "source": [
        "# **01**"
      ]
    },
    {
      "cell_type": "markdown",
      "metadata": {
        "id": "h4kvzsyf0oiV"
      },
      "source": [
        "1. Write a Python program which accepts the radius of a circle from the user\n",
        "and compute the area.\n",
        "Sample input: Enter the radius: 3\n",
        "Sample output: Area of Circle is 28.59999999999"
      ]
    },
    {
      "cell_type": "code",
      "execution_count": null,
      "metadata": {
        "colab": {
          "base_uri": "https://localhost:8080/"
        },
        "id": "IYt5MV1Bz9Dx",
        "outputId": "acbeeac3-86dc-45a0-dfbf-c962024f4027"
      },
      "outputs": [
        {
          "name": "stdout",
          "output_type": "stream",
          "text": [
            "Enter radius: 3\n",
            "Area of circle is 28.274333882308138\n"
          ]
        }
      ],
      "source": [
        "import math\n",
        "radius=float(input(\"Enter radius: \"))\n",
        "area= math.pi*radius**2\n",
        "print(f\"Area of circle is {area}\")"
      ]
    },
    {
      "cell_type": "markdown",
      "metadata": {
        "id": "oZ3RIAt33Uwa"
      },
      "source": [
        "2. Write a Python Program to accept the details of a student like name, roll\n",
        "number and mark and display it.\n",
        "Sample input: Enter the name: Anisha\n",
        "Enter the roll number: 21\n",
        "Enter the mark: 78\n",
        "Sample output: Name: Anisha\n",
        "Roll No: 21\n",
        "Mark: 78\n"
      ]
    },
    {
      "cell_type": "code",
      "execution_count": null,
      "metadata": {
        "colab": {
          "base_uri": "https://localhost:8080/"
        },
        "id": "Ie4Jt9s03X4q",
        "outputId": "8e1d690c-5b51-4155-971d-19125dd56657"
      },
      "outputs": [
        {
          "name": "stdout",
          "output_type": "stream",
          "text": [
            "Enter name: Saketh\n",
            "Enter roll number: 21\n",
            "Enter marks: 50\n",
            "Name: Saketh\n",
            "Roll no: 21\n",
            "Marks: 50.0\n"
          ]
        }
      ],
      "source": [
        "name=input(\"Enter name: \")\n",
        "rollno=int(input(\"Enter roll number: \"))\n",
        "marks=float(input(\"Enter marks: \"))\n",
        "print(f\"Name: {name}\")\n",
        "print(f\"Roll no: {rollno}\")\n",
        "print(f\"Marks: {marks}\")"
      ]
    },
    {
      "cell_type": "markdown",
      "metadata": {
        "id": "4dDjAGl14erJ"
      },
      "source": [
        "3. Write a Python program to get the largest number from a list.\n",
        "Sample input: 12, 3, 47, 10\n",
        "Sample output: 47 is the largest number."
      ]
    },
    {
      "cell_type": "code",
      "execution_count": null,
      "metadata": {
        "colab": {
          "base_uri": "https://localhost:8080/"
        },
        "id": "gdMBLlq94ech",
        "outputId": "c7856974-9d46-4ee4-f380-1f7a255c13d0"
      },
      "outputs": [
        {
          "name": "stdout",
          "output_type": "stream",
          "text": [
            "47 is the largest number\n"
          ]
        }
      ],
      "source": [
        "numberList=[0, 3, 47, 10]\n",
        "large=0\n",
        "for i in range(len(numberList)):\n",
        "  if numberList[i]>large:\n",
        "    large=numberList[i]\n",
        "\n",
        "print(f\"{large} is the largest number\")"
      ]
    },
    {
      "cell_type": "markdown",
      "metadata": {
        "id": "FnD6LVL6VJfJ"
      },
      "source": [
        "4. Given a range of first 10 numbers, write a Python program to iterate from\n",
        "start number to the end number and print the sum of the current number\n",
        "and previous number.\n",
        "Sample input: 1….10\n",
        "Sample output: Current Number 1 Previous Number 0 Sum: 1 Current\n",
        "Number 2 Previous Number 1 Sum: 3 Current Number 3 Previous\n",
        "Number 2 Sum: 5… Current Number 10 Previous Number 9 Sum: 19\n"
      ]
    },
    {
      "cell_type": "code",
      "execution_count": null,
      "metadata": {
        "colab": {
          "base_uri": "https://localhost:8080/"
        },
        "id": "SXUUZTNAVKIf",
        "outputId": "c7d5b3e5-6509-4b9c-e802-d216fb0dac9b"
      },
      "outputs": [
        {
          "name": "stdout",
          "output_type": "stream",
          "text": [
            "Current Number: 1\n",
            "Previous Number: 0\n",
            "Sum: 1\n",
            "Current Number: 2\n",
            "Previous Number: 1\n",
            "Sum: 3\n",
            "Current Number: 3\n",
            "Previous Number: 2\n",
            "Sum: 5\n",
            "Current Number: 4\n",
            "Previous Number: 3\n",
            "Sum: 7\n",
            "Current Number: 5\n",
            "Previous Number: 4\n",
            "Sum: 9\n",
            "Current Number: 6\n",
            "Previous Number: 5\n",
            "Sum: 11\n",
            "Current Number: 7\n",
            "Previous Number: 6\n",
            "Sum: 13\n",
            "Current Number: 8\n",
            "Previous Number: 7\n",
            "Sum: 15\n",
            "Current Number: 9\n",
            "Previous Number: 8\n",
            "Sum: 17\n",
            "Current Number: 10\n",
            "Previous Number: 9\n",
            "Sum: 19\n"
          ]
        }
      ],
      "source": [
        "list=[1,2,3,4,5,6,7,8,9,10]\n",
        "sum=0\n",
        "pnum=0\n",
        "for i in range(len(list)):\n",
        "  if(i!=0):\n",
        "    pnum=list[i-1]\n",
        "  sum=pnum+list[i]\n",
        "  print(f\"Current Number: {list[i]}\")\n",
        "  print(f\"Previous Number: {pnum}\")\n",
        "  print(f\"Sum: {sum}\")"
      ]
    },
    {
      "cell_type": "markdown",
      "metadata": {
        "id": "4FdhImOHctbn"
      },
      "source": [
        "5. Write a Python program to print only those numbers which are divisible\n",
        "of 5.\n",
        "Sample input: 10, 20,33,46,55 Sample output: 10, 20, 55"
      ]
    },
    {
      "cell_type": "code",
      "execution_count": null,
      "metadata": {
        "colab": {
          "base_uri": "https://localhost:8080/"
        },
        "id": "0wGIZzBRcvdV",
        "outputId": "998bb93a-ddd3-4305-d091-e2e7e745b2e7"
      },
      "outputs": [
        {
          "name": "stdout",
          "output_type": "stream",
          "text": [
            "45\n",
            "75\n",
            "20\n"
          ]
        }
      ],
      "source": [
        "list=[1,45,67,354,75,20]\n",
        "for num in list:\n",
        "  if(num%5==0):\n",
        "    print(num)"
      ]
    },
    {
      "cell_type": "markdown",
      "metadata": {
        "id": "bOZXB8effI52"
      },
      "source": [
        "6. Write a Python program to check whether a number is prime or not.\n",
        "Sample input: Enter the number: 3\n",
        "Sample output: 3 is a prime number."
      ]
    },
    {
      "cell_type": "code",
      "execution_count": null,
      "metadata": {
        "colab": {
          "base_uri": "https://localhost:8080/"
        },
        "id": "t2zbXMXWfImu",
        "outputId": "aa044015-28db-4edc-aef2-53576d94f168"
      },
      "outputs": [
        {
          "name": "stdout",
          "output_type": "stream",
          "text": [
            "Enter number: 23\n",
            "23 is prime\n"
          ]
        }
      ],
      "source": [
        "num=int(input(\"Enter number: \"))\n",
        "count=0\n",
        "if num<= 1:\n",
        "    print(f\"{num} is neither prime nor composite\")\n",
        "else:\n",
        "  for i in range(2, int(num**0.5) + 1):\n",
        "    if num%i==0:\n",
        "      count=1\n",
        "if count==1:\n",
        "  print(f\"{num} is not prime\")\n",
        "else:\n",
        "  print(f\"{num} is prime\")"
      ]
    },
    {
      "cell_type": "markdown",
      "metadata": {
        "id": "SAuTUGPFlwXr"
      },
      "source": [
        "7. Write a Python program to reverse a list using for loop.\n",
        "Sample input: 10,40,30,70\n",
        "Sample output: 70,30,40,10"
      ]
    },
    {
      "cell_type": "code",
      "execution_count": null,
      "metadata": {
        "colab": {
          "base_uri": "https://localhost:8080/"
        },
        "id": "Rl6ZWILhlw-s",
        "outputId": "232a11fe-45d8-47d8-d54b-c101bd34716f"
      },
      "outputs": [
        {
          "name": "stdout",
          "output_type": "stream",
          "text": [
            "20,75,354,67,45,1\n"
          ]
        }
      ],
      "source": [
        "list=[1,45,67,354,75,20]\n",
        "for num in range(len(list)-1,-1,-1):\n",
        "  if num!=0:\n",
        "    print(list[num],end=\",\")\n",
        "  else:\n",
        "    print(list[num])"
      ]
    },
    {
      "cell_type": "markdown",
      "metadata": {
        "id": "xKKrLK3OoiRt"
      },
      "source": [
        "8. Write a Python program to print the following pattern.\n",
        "*\n",
        "**\n",
        "***\n",
        "****"
      ]
    },
    {
      "cell_type": "code",
      "execution_count": null,
      "metadata": {
        "colab": {
          "base_uri": "https://localhost:8080/"
        },
        "id": "bWC_ikxkojHj",
        "outputId": "1fd4b31c-7fb6-46fd-f97c-e1e6c2c96927"
      },
      "outputs": [
        {
          "name": "stdout",
          "output_type": "stream",
          "text": [
            "*\n",
            "**\n",
            "***\n",
            "****\n"
          ]
        }
      ],
      "source": [
        "for i in range(1,5):\n",
        "  for j in range(1,i+1):\n",
        "    print(\"*\",end=\"\")\n",
        "  print(\"\")"
      ]
    },
    {
      "cell_type": "markdown",
      "metadata": {
        "id": "K6MnC9I9qLjU"
      },
      "source": [
        "9. Write a Python program to find the maximum of three numbers\n",
        "Sample input: 34,12,7\n",
        "Sample output: 34"
      ]
    },
    {
      "cell_type": "code",
      "execution_count": null,
      "metadata": {
        "colab": {
          "base_uri": "https://localhost:8080/"
        },
        "id": "nZlX1gk7qO3j",
        "outputId": "986e43b2-befb-428a-a8c9-1ca2fe1f4e6e"
      },
      "outputs": [
        {
          "name": "stdout",
          "output_type": "stream",
          "text": [
            "Enter 3 numbers separated by commas: 4,782,34\n",
            "782 is the largest number\n"
          ]
        }
      ],
      "source": [
        "numbers=input((\"Enter 3 numbers separated by commas: \"))\n",
        "num1=numbers.split(\",\")[0]\n",
        "num2=numbers.split(\",\")[1]\n",
        "num3=numbers.split(\",\")[2]\n",
        "large=0\n",
        "for i in range(1,4):\n",
        "  if num1>num2:\n",
        "    large=num1\n",
        "  else:\n",
        "    large=num2\n",
        "  if num3>large:\n",
        "    large=num3\n",
        "\n",
        "print(f\"{large} is the largest number\")"
      ]
    },
    {
      "cell_type": "markdown",
      "metadata": {
        "id": "HikbHi4gsG3N"
      },
      "source": [
        "10. Write a Python program to construct the following pattern, using a\n",
        "nested for loop.\n",
        "*\n",
        "**\n",
        "***\n",
        "****\n",
        "*****\n",
        "****\n",
        "***\n",
        "**\n",
        "*"
      ]
    },
    {
      "cell_type": "code",
      "execution_count": null,
      "metadata": {
        "colab": {
          "base_uri": "https://localhost:8080/"
        },
        "id": "Rm0LHWhxsJWK",
        "outputId": "1ad2b77e-0e05-4755-a289-0fbd8ce5a640"
      },
      "outputs": [
        {
          "name": "stdout",
          "output_type": "stream",
          "text": [
            "*\n",
            "**\n",
            "***\n",
            "****\n",
            "*****\n",
            "****\n",
            "***\n",
            "**\n",
            "*\n"
          ]
        }
      ],
      "source": [
        "for i in range(1,10):\n",
        "  if(i<6):\n",
        "    for j in range(1,i+1):\n",
        "      print(\"*\",end=\"\")\n",
        "  else:\n",
        "    for j in range(10-i,0,-1):\n",
        "      print(\"*\",end=\"\")\n",
        "  print(\"\")"
      ]
    },
    {
      "cell_type": "markdown",
      "metadata": {
        "id": "07Q2tbXCOx5v"
      },
      "source": [
        "# **02**"
      ]
    },
    {
      "cell_type": "markdown",
      "metadata": {
        "id": "SUjEG3yGO_Zt"
      },
      "source": [
        "1. Write a Python program to check whether a given number is positive, negative,  or zero.\n"
      ]
    },
    {
      "cell_type": "code",
      "execution_count": null,
      "metadata": {
        "colab": {
          "base_uri": "https://localhost:8080/"
        },
        "id": "Tr6N02tIPZ4l",
        "outputId": "449ebd81-901d-473b-c692-bfc6c8f6c185"
      },
      "outputs": [
        {
          "name": "stdout",
          "output_type": "stream",
          "text": [
            "Enter number: 0\n",
            "Number is zero\n"
          ]
        }
      ],
      "source": [
        "num=int(input(\"Enter number: \"))\n",
        "if(num>0):\n",
        "  print(f\"{num} is positive\")\n",
        "elif(num<0):\n",
        "  print(f\"{num} is negative\")\n",
        "else:\n",
        "  print(\"Number is zero\")"
      ]
    },
    {
      "cell_type": "markdown",
      "metadata": {
        "id": "Su-SXJyRQC0e"
      },
      "source": [
        "2. Write a program that takes an integer as input and prints whether it is odd or even."
      ]
    },
    {
      "cell_type": "code",
      "execution_count": null,
      "metadata": {
        "colab": {
          "base_uri": "https://localhost:8080/"
        },
        "id": "Y1Ra-m2IQG2s",
        "outputId": "f66f8065-8312-456a-ac4d-3d5ea58c20f9"
      },
      "outputs": [
        {
          "name": "stdout",
          "output_type": "stream",
          "text": [
            "Enter number: 4\n",
            "4 is even\n"
          ]
        }
      ],
      "source": [
        "num=int(input(\"Enter number: \"))\n",
        "if num%2==0:\n",
        "  print(f\"{num} is even\")\n",
        "else:\n",
        "  print(f\"{num} is odd\")"
      ]
    },
    {
      "cell_type": "markdown",
      "metadata": {
        "id": "YawcW52cQcal"
      },
      "source": [
        "3. Take a student's marks as input and print their grade based on the following:\n",
        "▪ 90-100 → A\n",
        "▪ 80-89 → B\n",
        "▪ 70-79 → C\n",
        "▪ 60-69 → D\n",
        "▪ Below 60 → Fail"
      ]
    },
    {
      "cell_type": "code",
      "execution_count": null,
      "metadata": {
        "colab": {
          "base_uri": "https://localhost:8080/"
        },
        "id": "33fj4Z6KQb_u",
        "outputId": "15d313a9-a8c7-42eb-ffc7-bcda387e85c5"
      },
      "outputs": [
        {
          "name": "stdout",
          "output_type": "stream",
          "text": [
            "Enter marks: 67\n",
            "Grade D\n"
          ]
        }
      ],
      "source": [
        "marks=float(input(\"Enter marks: \"))\n",
        "if(marks>=90 and marks<=100):\n",
        "  print(\"Grade A\")\n",
        "elif(marks>=80 and marks<=89):\n",
        "  print(\"Grade B\")\n",
        "if(marks>=70 and marks<=79):\n",
        "  print(\"Grade C\")\n",
        "elif(marks>=60 and marks<=69):\n",
        "  print(\"Grade D\")\n",
        "else:\n",
        "  print(\"Fail\")\n"
      ]
    },
    {
      "cell_type": "markdown",
      "metadata": {
        "id": "yQqpIx-mRxwk"
      },
      "source": [
        "4. Write a program to check if a given year is a leap year or not."
      ]
    },
    {
      "cell_type": "code",
      "execution_count": null,
      "metadata": {
        "colab": {
          "base_uri": "https://localhost:8080/"
        },
        "id": "ksqWMwqSRwoE",
        "outputId": "19270e60-8906-40a0-e206-13e57f3e9221"
      },
      "outputs": [
        {
          "name": "stdout",
          "output_type": "stream",
          "text": [
            "Enter year: 2012\n",
            "2012 is a leap year\n"
          ]
        }
      ],
      "source": [
        "year=int(input(\"Enter year: \"))\n",
        "if year%4==0 and year%100!=0 or year%400==0:\n",
        "  print(f\"{year} is a leap year\")\n",
        "else:\n",
        "  print(f\"{year} is not a leap year\")"
      ]
    },
    {
      "cell_type": "markdown",
      "metadata": {
        "id": "DL7qpA0DlWwi"
      },
      "source": [
        "5. Print Numbers from 1 to N\n",
        "o Take an integer input N and print all numbers from 1 to N using a for loop.\n"
      ]
    },
    {
      "cell_type": "code",
      "execution_count": null,
      "metadata": {
        "colab": {
          "base_uri": "https://localhost:8080/"
        },
        "id": "pnUB_83ZlZIJ",
        "outputId": "75ecce16-df5e-48a7-bf98-41ee50b6d7da"
      },
      "outputs": [
        {
          "name": "stdout",
          "output_type": "stream",
          "text": [
            "Enter number: 10\n",
            "1\n",
            "2\n",
            "3\n",
            "4\n",
            "5\n",
            "6\n",
            "7\n",
            "8\n",
            "9\n",
            "10\n"
          ]
        }
      ],
      "source": [
        "num=int(input(\"Enter number: \"))\n",
        "for i in range(1,num+1):\n",
        "  print(i)"
      ]
    },
    {
      "cell_type": "markdown",
      "metadata": {
        "id": "qUnp8Uf0qVgQ"
      },
      "source": [
        "6. Write a program that takes an integer N as input and prints the sum of the first N natural numbers."
      ]
    },
    {
      "cell_type": "code",
      "execution_count": null,
      "metadata": {
        "colab": {
          "base_uri": "https://localhost:8080/"
        },
        "id": "kdtTf2D5qeEv",
        "outputId": "d9a24f1d-7119-443f-9bad-dac999e9ce80"
      },
      "outputs": [
        {
          "name": "stdout",
          "output_type": "stream",
          "text": [
            "Enter number: 10\n",
            "Sum of first 10 natural numbers: 55\n"
          ]
        }
      ],
      "source": [
        "num=int(input(\"Enter number: \"))\n",
        "sum=0\n",
        "for i in range(1,num+1):\n",
        "  sum+=i\n",
        "print(f\"Sum of first {num} natural numbers: {sum}\")"
      ]
    },
    {
      "cell_type": "markdown",
      "metadata": {
        "id": "fCfZ26uDq8eg"
      },
      "source": [
        "7. Take a number as input and print its multiplication table up to 10."
      ]
    },
    {
      "cell_type": "code",
      "execution_count": null,
      "metadata": {
        "colab": {
          "base_uri": "https://localhost:8080/"
        },
        "id": "f-UiM8W1rBIH",
        "outputId": "6f0ae73d-a0d9-4cee-870e-e24848765e46"
      },
      "outputs": [
        {
          "name": "stdout",
          "output_type": "stream",
          "text": [
            "Enter number: 5\n",
            "5 x 1 = 5\n",
            "5 x 2 = 10\n",
            "5 x 3 = 15\n",
            "5 x 4 = 20\n",
            "5 x 5 = 25\n",
            "5 x 6 = 30\n",
            "5 x 7 = 35\n",
            "5 x 8 = 40\n",
            "5 x 9 = 45\n",
            "5 x 10 = 50\n"
          ]
        }
      ],
      "source": [
        "num=int(input(\"Enter number: \"))\n",
        "product=1\n",
        "for i in range(1,11):\n",
        "  product=i*num\n",
        "  print(f\"{num} x {i} = {product}\")"
      ]
    },
    {
      "cell_type": "markdown",
      "metadata": {
        "id": "QBhAZOdPuW4-"
      },
      "source": [
        "8. Write a Python program to calculate the factorial of a given number using a loop"
      ]
    },
    {
      "cell_type": "code",
      "execution_count": null,
      "metadata": {
        "colab": {
          "base_uri": "https://localhost:8080/"
        },
        "id": "sFZj9PG1ucWP",
        "outputId": "a0866e76-f8ae-429f-ebc3-608df1c708c9"
      },
      "outputs": [
        {
          "name": "stdout",
          "output_type": "stream",
          "text": [
            "Enter number: 4\n",
            "Factorial of 4 is 24\n"
          ]
        }
      ],
      "source": [
        "num=int(input(\"Enter number: \"))\n",
        "factorial=1\n",
        "for i in range(1,num+1):\n",
        "  factorial*=i\n",
        "print(f\"Factorial of {num} is {factorial}\")"
      ]
    },
    {
      "cell_type": "markdown",
      "metadata": {
        "id": "S28BJgYVTzUb"
      },
      "source": [
        "9. Take an integer input and print its reverse."
      ]
    },
    {
      "cell_type": "code",
      "execution_count": null,
      "metadata": {
        "colab": {
          "base_uri": "https://localhost:8080/"
        },
        "id": "e--SJ_tAT0sl",
        "outputId": "20f71f8f-8873-49eb-e68d-2d4eaf1da592"
      },
      "outputs": [
        {
          "name": "stdout",
          "output_type": "stream",
          "text": [
            "Enter number: 1234056\n",
            "6504321"
          ]
        }
      ],
      "source": [
        "digit=int(input(\"Enter number: \"))\n",
        "lnum=digit\n",
        "rnum=0\n",
        "while lnum!=0:\n",
        "  rnum=int(digit%10)\n",
        "  print(f\"{rnum}\",end=\"\")\n",
        "  digit=int(lnum/10)\n",
        "  lnum=digit\n",
        "\n"
      ]
    },
    {
      "cell_type": "markdown",
      "metadata": {
        "id": "tV_9BhwZ_uCB"
      },
      "source": [
        "10. Write a program that takes a number and prints the count of its digits"
      ]
    },
    {
      "cell_type": "code",
      "execution_count": null,
      "metadata": {
        "colab": {
          "base_uri": "https://localhost:8080/"
        },
        "id": "cTYGsZSF_4HY",
        "outputId": "46c5d204-919b-4eee-8b79-e910abbadad0"
      },
      "outputs": [
        {
          "name": "stdout",
          "output_type": "stream",
          "text": [
            "Enter number: 10345\n",
            "10345 has 5 number of digits\n"
          ]
        }
      ],
      "source": [
        "num=int(input(\"Enter number: \"))\n",
        "digit=num\n",
        "count=0\n",
        "while digit!=0:\n",
        "  digit=int(digit/10)\n",
        "  count+=1\n",
        "print(f\"{num} has {count} number of digits\")\n"
      ]
    },
    {
      "cell_type": "markdown",
      "metadata": {
        "id": "r8pmx2IWPaw2"
      },
      "source": [
        "11. Right-Angled Triangle Pattern\n",
        "*\n",
        "**\n",
        "***\n",
        "****\n",
        "o Take an integer N as input and print a right-angled triangle of stars."
      ]
    },
    {
      "cell_type": "code",
      "execution_count": null,
      "metadata": {
        "colab": {
          "base_uri": "https://localhost:8080/"
        },
        "id": "jzA8AKFzPjGG",
        "outputId": "3307ef74-3716-4c60-b1d5-efa6878bd89c"
      },
      "outputs": [
        {
          "name": "stdout",
          "output_type": "stream",
          "text": [
            "Enter number: 3\n",
            "*\n",
            "**\n",
            "***\n"
          ]
        }
      ],
      "source": [
        "num=int(input(\"Enter number: \"))\n",
        "for i in range(1,num+1):\n",
        "  for j in range(1,i+1):\n",
        "    print(\"*\",end=\"\")\n",
        "  print(\"\")"
      ]
    },
    {
      "cell_type": "markdown",
      "metadata": {
        "id": "PNps5LMMhr44"
      },
      "source": [
        "12. Number Pyramid Pattern\n",
        " 1\n",
        " 121\n",
        "12321\n",
        "1234321\n",
        "o Write a program that takes an integer N and prints a pyramid pattern."
      ]
    },
    {
      "cell_type": "code",
      "execution_count": null,
      "metadata": {
        "colab": {
          "base_uri": "https://localhost:8080/"
        },
        "id": "zy5g5zpAhvMV",
        "outputId": "69fa7119-8a6a-46f9-941c-452d8bab10c2"
      },
      "outputs": [
        {
          "output_type": "stream",
          "name": "stdout",
          "text": [
            "Enter number: 5\n",
            "    1\n",
            "   121\n",
            "  12321\n",
            " 1234321\n",
            "123454321\n"
          ]
        }
      ],
      "source": [
        "num=int(input(\"Enter number: \"))\n",
        "for i in range(1, num + 1):\n",
        "    for s in range(1, num - i + 1):\n",
        "        print(\" \", end=\"\")\n",
        "    for j in range(1, i + 1):\n",
        "        print(j, end=\"\")\n",
        "    for j in range(i - 1, 0, -1):\n",
        "        print(j, end=\"\")\n",
        "    print(\"\")\n",
        "\n"
      ]
    },
    {
      "cell_type": "markdown",
      "source": [
        "13. Print the first 5 odd numbers using a loop and break statement."
      ],
      "metadata": {
        "id": "vvPZH3z7sIfL"
      }
    },
    {
      "cell_type": "code",
      "source": [
        "counter = 0\n",
        "for i in range(10):\n",
        "  if i % 2 != 0:\n",
        "    print(i)\n",
        "    counter += 1\n",
        "  if counter == 5:\n",
        "    break"
      ],
      "metadata": {
        "colab": {
          "base_uri": "https://localhost:8080/"
        },
        "id": "DMKkciccsI_L",
        "outputId": "2de0fcdc-3998-4e91-b6c5-019f09581524"
      },
      "execution_count": null,
      "outputs": [
        {
          "output_type": "stream",
          "name": "stdout",
          "text": [
            "1\n",
            "3\n",
            "5\n",
            "7\n",
            "9\n"
          ]
        }
      ]
    },
    {
      "cell_type": "markdown",
      "source": [
        "14. Print numbers from 1 to 20 but skip the ones that are multiples of 3."
      ],
      "metadata": {
        "id": "vKoQ_nIXuCMa"
      }
    },
    {
      "cell_type": "code",
      "source": [
        "for i in range(1, 21):\n",
        "  if i % 3 != 0:\n",
        "    print(i)"
      ],
      "metadata": {
        "colab": {
          "base_uri": "https://localhost:8080/"
        },
        "id": "E2BDDgbBuMwj",
        "outputId": "33219efa-7378-47cc-e6a7-b024747a12cb"
      },
      "execution_count": null,
      "outputs": [
        {
          "output_type": "stream",
          "name": "stdout",
          "text": [
            "1\n",
            "2\n",
            "4\n",
            "5\n",
            "7\n",
            "8\n",
            "10\n",
            "11\n",
            "13\n",
            "14\n",
            "16\n",
            "17\n",
            "19\n",
            "20\n"
          ]
        }
      ]
    },
    {
      "cell_type": "markdown",
      "source": [
        "15. Write a program where pass is used in an if condition, but the loop continues execution"
      ],
      "metadata": {
        "id": "Zg86eS1qwsZC"
      }
    },
    {
      "cell_type": "code",
      "source": [
        "for i in range (1,10):\n",
        "  if i%2==0:\n",
        "    print(i)\n",
        "  else:\n",
        "    pass"
      ],
      "metadata": {
        "colab": {
          "base_uri": "https://localhost:8080/"
        },
        "id": "ID529CKIxQjc",
        "outputId": "b516884b-3037-4d57-87bd-f6872f9eafe3"
      },
      "execution_count": null,
      "outputs": [
        {
          "output_type": "stream",
          "name": "stdout",
          "text": [
            "2\n",
            "4\n",
            "6\n",
            "8\n"
          ]
        }
      ]
    },
    {
      "cell_type": "markdown",
      "source": [
        "16. Print the first N terms of the Fibonacci sequence."
      ],
      "metadata": {
        "id": "Odn2xNrxxgux"
      }
    },
    {
      "cell_type": "code",
      "source": [
        "num=int(input(\"Enter number: \"))\n",
        "a=0\n",
        "b=1\n",
        "for i in range(1,num+1):\n",
        "    print(a,end=\" \")\n",
        "    temp=a+b\n",
        "    a=b\n",
        "    b=temp\n",
        "\n"
      ],
      "metadata": {
        "colab": {
          "base_uri": "https://localhost:8080/"
        },
        "id": "dqHU85Pexh7J",
        "outputId": "d357bc14-fcb0-4755-d8aa-76c49b7ee826"
      },
      "execution_count": null,
      "outputs": [
        {
          "output_type": "stream",
          "name": "stdout",
          "text": [
            "Enter number: 3\n",
            "0 1 1 "
          ]
        }
      ]
    },
    {
      "cell_type": "markdown",
      "source": [
        "17. Write a program to check if a given number is prime."
      ],
      "metadata": {
        "id": "AxH3RhU05zup"
      }
    },
    {
      "cell_type": "code",
      "source": [
        "num=int(input(\"Enter number: \"))\n",
        "count=0\n",
        "if num<=1:\n",
        "    print(f\"{num} is neither prime nor composite\")\n",
        "else:\n",
        "  for i in range(2, int(num**0.5) + 1):\n",
        "    if num%i==0:\n",
        "      count=1\n",
        "if count==1:\n",
        "  print(f\"{num} is not prime\")\n",
        "else:\n",
        "  print(f\"{num} is prime\")"
      ],
      "metadata": {
        "id": "EZO8Hctn51Nh"
      },
      "execution_count": null,
      "outputs": []
    },
    {
      "cell_type": "markdown",
      "source": [
        "18. Write a program to calculate the sum of the digits of a given number."
      ],
      "metadata": {
        "id": "_4RarbOX-p2w"
      }
    },
    {
      "cell_type": "code",
      "source": [
        "digit=int(input(\"Enter number: \"))\n",
        "num=digit\n",
        "lnum=digit\n",
        "rnum=0\n",
        "sum=0\n",
        "while lnum!=0:\n",
        "  rnum=int(digit%10)\n",
        "  sum+=rnum\n",
        "  digit=int(lnum/10)\n",
        "  lnum=digit\n",
        "print(f\"Sum of digits of {num} is {sum}\")"
      ],
      "metadata": {
        "colab": {
          "base_uri": "https://localhost:8080/"
        },
        "id": "3xJ0XzhJ-txR",
        "outputId": "c51fd642-d961-4e2f-a5ec-bbb476ee0f2a"
      },
      "execution_count": null,
      "outputs": [
        {
          "output_type": "stream",
          "name": "stdout",
          "text": [
            "Enter number: 12345\n",
            "Sum of digits of 12345 is 25\n"
          ]
        }
      ]
    },
    {
      "cell_type": "markdown",
      "source": [
        "19. Check if a given number is an Armstrong number (e.g., 153 → 1³ + 5³ + 3³ = 153)."
      ],
      "metadata": {
        "id": "QWmYkGi5CJ_x"
      }
    },
    {
      "cell_type": "code",
      "source": [
        "digit=int(input(\"Enter number: \"))\n",
        "num=digit\n",
        "lnum=digit\n",
        "rnum=0\n",
        "sum=0\n",
        "while lnum!=0:\n",
        "  rnum=int(digit%10)\n",
        "  sum+=rnum**3\n",
        "  digit=int(lnum/10)\n",
        "  lnum=digit\n",
        "if num==sum:\n",
        "  print(f\"{num} is an Armstrong number\")\n",
        "else:\n",
        "  print(f\"{num} is not an Armstrong number\")"
      ],
      "metadata": {
        "colab": {
          "base_uri": "https://localhost:8080/"
        },
        "id": "-c8ZHuB3CP1h",
        "outputId": "91541e76-a618-4c63-ad31-0ec43534e38c"
      },
      "execution_count": null,
      "outputs": [
        {
          "output_type": "stream",
          "name": "stdout",
          "text": [
            "Enter number: 123\n",
            "123 is not an Armstrong number\n"
          ]
        }
      ]
    },
    {
      "cell_type": "markdown",
      "source": [
        "20. Take a string as input and print it in reverse order using a loop"
      ],
      "metadata": {
        "id": "u4mPcK_SC62C"
      }
    },
    {
      "cell_type": "code",
      "source": [
        "string=input(\"Enter string: \")\n",
        "for i in range(len(string)-1,-1,-1):\n",
        "  print(string[i],end=\"\")"
      ],
      "metadata": {
        "colab": {
          "base_uri": "https://localhost:8080/"
        },
        "id": "MTA9yWolC6j4",
        "outputId": "1e560662-0f35-40c7-f131-27d784f6afe5"
      },
      "execution_count": null,
      "outputs": [
        {
          "output_type": "stream",
          "name": "stdout",
          "text": [
            "Enter string: hello\n",
            "olleh"
          ]
        }
      ]
    },
    {
      "cell_type": "markdown",
      "source": [
        "# **03**"
      ],
      "metadata": {
        "id": "mVKrO1iXGpNX"
      }
    },
    {
      "cell_type": "code",
      "source": [
        "#1. Create a program that greets a user by name. Ask for the user's name and printa personalized message, such as \"Welcome to Data Analytics, [Name]!\"\n",
        "name=input('Enter Your Name : ')\n",
        "print(f'Welcome to Data Analytics,{name}!')"
      ],
      "metadata": {
        "colab": {
          "base_uri": "https://localhost:8080/"
        },
        "id": "EMAqbtRMGmaa",
        "outputId": "4ad92c28-3105-4de6-c0bf-e7351a9eb8d6"
      },
      "execution_count": null,
      "outputs": [
        {
          "output_type": "stream",
          "name": "stdout",
          "text": [
            "Enter Your Name : Saketh\n",
            "Welcome to Data Analytics,Saketh!\n"
          ]
        }
      ]
    },
    {
      "cell_type": "code",
      "source": [
        "#2.Define a variable for your favorite snack. Print a fun sentence that includes this variable, like \"I love munching on [Snack] during meetings!\"\n",
        "snack='Banana chips'\n",
        "print(f'I love munching on {snack} during meetings!')"
      ],
      "metadata": {
        "colab": {
          "base_uri": "https://localhost:8080/"
        },
        "id": "0DtkU6_VG0B_",
        "outputId": "23fbbbc3-08c9-4443-e4fa-a34cf7b2766f"
      },
      "execution_count": null,
      "outputs": [
        {
          "output_type": "stream",
          "name": "stdout",
          "text": [
            "I love munching on Banana chips during meetings!\n"
          ]
        }
      ]
    },
    {
      "cell_type": "code",
      "source": [
        "#3. Ifyour team completed 15 tasks in a week and plans to double that next week,calculate and print how many tasks you expect to complete next week.\n",
        "task=15\n",
        "expected_task=task*2\n",
        "print(f'Expected task to complete next week {expected_task}')"
      ],
      "metadata": {
        "colab": {
          "base_uri": "https://localhost:8080/"
        },
        "id": "tXRVfoa-Gz5P",
        "outputId": "8bf0e554-108a-42da-be7e-42f25864f225"
      },
      "execution_count": null,
      "outputs": [
        {
          "output_type": "stream",
          "name": "stdout",
          "text": [
            "Expected task to complete next week 30\n"
          ]
        }
      ]
    },
    {
      "cell_type": "code",
      "source": [
        "#4.Create two variables for income and expenses. Calculate and print your savingsfor the month using the formula: Savings = Income- Expenses. Use realistic numbers.\n",
        "your_income=int(input('Enter your Income: '))\n",
        "your_expense=int(input('Enter your Expense: '))\n",
        "savings = your_income - your_expense\n",
        "print(f'Your savings for this month is {savings}' )"
      ],
      "metadata": {
        "colab": {
          "base_uri": "https://localhost:8080/"
        },
        "id": "Ak_xiQq2Gz2o",
        "outputId": "bab94dab-5d24-4530-db81-e47a930b7044"
      },
      "execution_count": null,
      "outputs": [
        {
          "output_type": "stream",
          "name": "stdout",
          "text": [
            "Enter your Income: 23000\n",
            "Enter your Expense: 7000\n",
            "Your savings for this month is 16000\n"
          ]
        }
      ]
    },
    {
      "cell_type": "code",
      "source": [
        "#5.  Imagine you're organizing a movie night. Create variables for the number of\n",
        "#  friends invited and the number of popcorn bags you need per friend. Calculate\n",
        "#  the total number of popcorn bags needed.\n",
        "friends=int(input('Enter number of friends  invited : '))\n",
        "popcorn_bags=int(input('Number of popcorn bags per friend : '))\n",
        "total_popcorn=friends*popcorn_bags\n",
        "print(f'{total_popcorn} popcorn bags is needed')"
      ],
      "metadata": {
        "colab": {
          "base_uri": "https://localhost:8080/"
        },
        "id": "wp67kxtYGz0J",
        "outputId": "153cd6f2-7d2e-4d30-e307-3d234dea511e"
      },
      "execution_count": null,
      "outputs": [
        {
          "output_type": "stream",
          "name": "stdout",
          "text": [
            "Enter number of friends  invited : 3\n",
            "Number of popcorn bags per friend : 3\n",
            "9 popcorn bags is needed\n"
          ]
        }
      ]
    },
    {
      "cell_type": "code",
      "source": [
        "#6. Write a program that asks for a product rating (1-5) and checks if the rating is\n",
        "#  above average (greater than 3). Print a message based on the rating.\n",
        "rating=int(input('Enter the your rating  (1 - 5) :'))\n",
        "if(rating>3):\n",
        "  print(f'{rating} is an Above average rating')\n",
        "else:\n",
        "  print(f'{rating} is a Below average rating')"
      ],
      "metadata": {
        "colab": {
          "base_uri": "https://localhost:8080/"
        },
        "id": "SIuvB9roGzvv",
        "outputId": "5a740a03-3940-4bcc-d994-a75f510bafac"
      },
      "execution_count": null,
      "outputs": [
        {
          "output_type": "stream",
          "name": "stdout",
          "text": [
            "Enter the your rating  (1 - 5) :4\n",
            "4 is an Above average rating\n"
          ]
        }
      ]
    },
    {
      "cell_type": "code",
      "source": [
        "#7. Yousold 50 items last month, 75 items this month, and 100 items next month.\n",
        "#  Write a program to calculate the average number of items sold over these three\n",
        "#  months.\n",
        "month1=50\n",
        "month2=75\n",
        "month3=100\n",
        "total_item_sold=(month1+month2+month3)/3\n",
        "print(f'Average items sold over 3 months: {total_item_sold}')"
      ],
      "metadata": {
        "colab": {
          "base_uri": "https://localhost:8080/"
        },
        "id": "1JuPMjI1Gzop",
        "outputId": "8d66a075-a0ea-491a-fad6-b7982db41b2d"
      },
      "execution_count": null,
      "outputs": [
        {
          "output_type": "stream",
          "name": "stdout",
          "text": [
            "Average items sold over 3 months: 75.0\n"
          ]
        }
      ]
    },
    {
      "cell_type": "code",
      "source": [
        "#8.  If you invest $500 with a return rate of 4% per year for 3 years, calculate and\n",
        "#  print the total amount you will have using simple interest\n",
        "invest=500\n",
        "return_rate=0.04\n",
        "years=3\n",
        "interest=invest*return_rate*years\n",
        "total_amount=invest+interest\n",
        "print(f'Total amound is {total_amount}')\n"
      ],
      "metadata": {
        "id": "jucrvqkdHK4X",
        "colab": {
          "base_uri": "https://localhost:8080/"
        },
        "outputId": "3c95f815-5aff-4699-d5cd-29207097c8c0"
      },
      "execution_count": null,
      "outputs": [
        {
          "output_type": "stream",
          "name": "stdout",
          "text": [
            "Total amound is 560.0\n"
          ]
        }
      ]
    },
    {
      "cell_type": "code",
      "source": [
        "#9.  Foraparty, calculate how much cake you need if each guest (you have 10) eats\n",
        "#  1 slice and each cake has 8 slices. Print how many cakes you need.\n",
        "import math\n",
        "cake_have=10\n",
        "sliced_cake=8\n",
        "cake_needed=math.ceil(cake_have / sliced_cake)\n",
        "print(f'Total cake we you needed :{cake_needed}')"
      ],
      "metadata": {
        "id": "hrCQgMcjHKvH",
        "colab": {
          "base_uri": "https://localhost:8080/"
        },
        "outputId": "59dd9812-e720-4432-bef3-aa30d2a78194"
      },
      "execution_count": null,
      "outputs": [
        {
          "output_type": "stream",
          "name": "stdout",
          "text": [
            "Total cake we you needed :2\n"
          ]
        }
      ]
    },
    {
      "cell_type": "code",
      "source": [
        "#10. Write a program that analyzes a short text of your choice (like a company slogan)\n",
        "#  and checks if it has more than 10 characters. Print a fun message based on this\n",
        "#  check.\n",
        "text='Sreesanth'\n",
        "if(len(text)>=7):\n",
        "  print('Its a too long !')\n",
        "else:\n",
        "  print('Its a short text')"
      ],
      "metadata": {
        "id": "0mS1pVR5HKso",
        "colab": {
          "base_uri": "https://localhost:8080/"
        },
        "outputId": "9da16822-0239-47cd-b2fa-6c4e6a737276"
      },
      "execution_count": null,
      "outputs": [
        {
          "output_type": "stream",
          "name": "stdout",
          "text": [
            "Its a too long !\n"
          ]
        }
      ]
    },
    {
      "cell_type": "code",
      "source": [
        "#11. Imagine you have two products with sales figures: product_A_sales = 250 and product_B_sales = 300. Write a program to determine which product sold more.\n",
        "product_a_sales = int(input('Enter sales of product A: '))\n",
        "product_b_sales = int(input('Enter sales of product B: '))\n",
        "if product_a_sales > product_b_sales:\n",
        "  print('Product A sold more than product B')\n",
        "elif product_a_sales == product_b_sales:\n",
        "  print('Product and product B sales were equal')\n",
        "else:\n",
        "  print('Product B sold more than product A')"
      ],
      "metadata": {
        "colab": {
          "base_uri": "https://localhost:8080/"
        },
        "id": "W_9eAIBJHKqQ",
        "outputId": "5dc9766a-b19a-4756-ccd3-0d074bc2211a"
      },
      "execution_count": null,
      "outputs": [
        {
          "output_type": "stream",
          "name": "stdout",
          "text": [
            "Enter sales of product A: 3456\n",
            "Enter sales of product B: 4535\n",
            "Product B sold more than product A\n"
          ]
        }
      ]
    },
    {
      "cell_type": "code",
      "source": [
        "#12.  If a student received $750 out of a total of $1000 as a scholarship, calculate the percentage of the scholarship and print a congratulatory message.\n",
        "total_scholarship = 1000\n",
        "amount_recieved = 750\n",
        "percentage = (amount_recieved / total_scholarship) * 100\n",
        "print('Percentage of scholarship recieved: ', percentage, '%')"
      ],
      "metadata": {
        "colab": {
          "base_uri": "https://localhost:8080/"
        },
        "id": "27D3eXO5HdWp",
        "outputId": "fd17b9e1-9614-4374-fb76-f0d07a11ec71"
      },
      "execution_count": null,
      "outputs": [
        {
          "output_type": "stream",
          "name": "stdout",
          "text": [
            "Percentage of scholarship recieved:  75.0 %\n"
          ]
        }
      ]
    },
    {
      "cell_type": "code",
      "source": [
        "#13. Create a variable named favorite_color and assign it your favorite color.Print the variable.\n",
        "\n",
        "favourite_color = 'blue '\n",
        "print(favourite_color)"
      ],
      "metadata": {
        "colab": {
          "base_uri": "https://localhost:8080/"
        },
        "id": "WoeK1iP2Hg1w",
        "outputId": "a656dccc-a7f0-4ed8-c651-3a4b9a0fb5e1"
      },
      "execution_count": null,
      "outputs": [
        {
          "output_type": "stream",
          "name": "stdout",
          "text": [
            "blue \n"
          ]
        }
      ]
    },
    {
      "cell_type": "code",
      "source": [
        "#14.Calculate the sum of two numbers, a = 10 and b = 20, and print the result\n",
        "a = 10\n",
        "b = 20\n",
        "print(a + b)"
      ],
      "metadata": {
        "colab": {
          "base_uri": "https://localhost:8080/"
        },
        "id": "yhSDLTOZHgvk",
        "outputId": "3fb82ed9-7ed2-483a-bedc-33334c3e2014"
      },
      "execution_count": null,
      "outputs": [
        {
          "output_type": "stream",
          "name": "stdout",
          "text": [
            "30\n"
          ]
        }
      ]
    },
    {
      "cell_type": "code",
      "source": [
        "#15. Create variables for the length and width of a rectangle. Calculate and print the area\n",
        "print('Rectangle area calculator')\n",
        "length = int(input('Enter length: '))\n",
        "width = int(input('Enter width: '))\n",
        "print(f'The area of the rectangle is {length * width}')"
      ],
      "metadata": {
        "colab": {
          "base_uri": "https://localhost:8080/"
        },
        "id": "MUbd1VmDHgsg",
        "outputId": "18a44fe1-85cd-4428-afd5-3ba2e280d3d3"
      },
      "execution_count": null,
      "outputs": [
        {
          "output_type": "stream",
          "name": "stdout",
          "text": [
            "Rectangle area calculator\n",
            "Enter length: 12\n",
            "Enter width: 11\n",
            "The area of the rectangle is 132\n"
          ]
        }
      ]
    },
    {
      "cell_type": "code",
      "source": [
        "#16. Write a program that checks if a number (e.g., num = 15) is even or odd.\n",
        "number = int(input('Enter a number: '))\n",
        "if number % 2 == 0:\n",
        "  print('The number is even')\n",
        "else:\n",
        "  print('The number is odd')"
      ],
      "metadata": {
        "colab": {
          "base_uri": "https://localhost:8080/"
        },
        "id": "1mlfXZMFHrso",
        "outputId": "ff6d5eee-2d7e-434d-8478-2f14f4af86c4"
      },
      "execution_count": null,
      "outputs": [
        {
          "output_type": "stream",
          "name": "stdout",
          "text": [
            "Enter a number: 34\n",
            "The number is even\n"
          ]
        }
      ]
    },
    {
      "cell_type": "code",
      "source": [
        "#17. Create a program that calculates the average of three numbers: 10, 20, and 30, and prints the result.\n",
        "num_1 = 10\n",
        "num_2 = 20\n",
        "num_3 = 30\n",
        "print('Average is ', (num_1 + num_2 + num_3)/3)"
      ],
      "metadata": {
        "colab": {
          "base_uri": "https://localhost:8080/"
        },
        "id": "N2a81g9fHrnY",
        "outputId": "7c493569-088c-461e-8785-62c1c964af59"
      },
      "execution_count": null,
      "outputs": [
        {
          "output_type": "stream",
          "name": "stdout",
          "text": [
            "Average is  20.0\n"
          ]
        }
      ]
    },
    {
      "cell_type": "code",
      "source": [
        "#18. Create a program that calculates the area of a circle with a radius of 7.Use the formula: Area= pi * radius squared.\n",
        "\n",
        "radius = 7\n",
        "pi = 3.14159265\n",
        "area = pi * (radius ** 2)\n",
        "print(area)"
      ],
      "metadata": {
        "id": "SeUL19XmHrj3"
      },
      "execution_count": null,
      "outputs": []
    },
    {
      "cell_type": "code",
      "source": [
        "#19. Write a program that checks if a given string text = \"Python\" has more than 6 characters\n",
        "string_1 = 'Python'\n",
        "length = len(string_1)\n",
        "if leng > 6:\n",
        "  print('string has more than six characters')\n",
        "elif length < 6:\n",
        "  print('string has less than six characters')\n",
        "else:\n",
        "  print('string has six characters')"
      ],
      "metadata": {
        "colab": {
          "base_uri": "https://localhost:8080/"
        },
        "id": "XtKoIpDnHrha",
        "outputId": "7b582d68-d9df-4b99-8ed7-2483a96dff86"
      },
      "execution_count": null,
      "outputs": [
        {
          "output_type": "stream",
          "name": "stdout",
          "text": [
            "string has six characters\n"
          ]
        }
      ]
    },
    {
      "cell_type": "code",
      "source": [
        "#20. Write a program that finds the maximum of two numbers, num1 = 15 and num2 = 25.\n",
        "\n",
        "num1 = 15\n",
        "num2 = 25\n",
        "maximum = max(num1, num2)\n",
        "print(maximum)"
      ],
      "metadata": {
        "colab": {
          "base_uri": "https://localhost:8080/"
        },
        "id": "fpnVhnhgH03Y",
        "outputId": "bbd57f7e-43b5-4525-a515-0418936c7692"
      },
      "execution_count": null,
      "outputs": [
        {
          "output_type": "stream",
          "name": "stdout",
          "text": [
            "25\n"
          ]
        }
      ]
    },
    {
      "cell_type": "code",
      "source": [
        "#21. Write a program that calculates the percentage of a student's marks. If the total marks are 500 and the obtained marks are 400, print the percentage.\n",
        "\n",
        "total = int(input('Enter total marks: '))\n",
        "marks = int(input(\"Enter marks recieved: \"))\n",
        "percentage_scored = (marks / total) * 100\n",
        "print(f'Your percentage is {int(percentage_scored)} %')"
      ],
      "metadata": {
        "colab": {
          "base_uri": "https://localhost:8080/"
        },
        "id": "CpgbfgMiH0t_",
        "outputId": "d08e0253-e4eb-4494-ad95-fb6f4098f99a"
      },
      "execution_count": null,
      "outputs": [
        {
          "output_type": "stream",
          "name": "stdout",
          "text": [
            "Enter total marks: 500\n",
            "Enter marks recieved: 400\n",
            "Your percentage is 80 %\n"
          ]
        }
      ]
    }
  ],
  "metadata": {
    "colab": {
      "provenance": [],
      "collapsed_sections": [
        "EXIVvN0xO4u_",
        "07Q2tbXCOx5v"
      ],
      "authorship_tag": "ABX9TyMK+DHaNdgfB67PYzNfm+KP",
      "include_colab_link": true
    },
    "kernelspec": {
      "display_name": "Python 3",
      "name": "python3"
    },
    "language_info": {
      "name": "python"
    }
  },
  "nbformat": 4,
  "nbformat_minor": 0
}